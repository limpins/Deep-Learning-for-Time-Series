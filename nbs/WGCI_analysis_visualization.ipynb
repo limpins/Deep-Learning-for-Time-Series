{
 "cells": [
  {
   "cell_type": "code",
   "execution_count": 1,
   "metadata": {},
   "outputs": [],
   "source": [
    "%matplotlib inline\n",
    "%reload_ext autoreload\n",
    "%autoreload 2\n",
    "# 多行输出\n",
    "from IPython.core.interactiveshell import InteractiveShell\n",
    "InteractiveShell.ast_node_interactivity = \"all\" "
   ]
  },
  {
   "cell_type": "markdown",
   "metadata": {},
   "source": [
    "# Depression WGCI 的分析与可视化"
   ]
  },
  {
   "cell_type": "code",
   "execution_count": 2,
   "metadata": {},
   "outputs": [],
   "source": [
    "import pickle\n",
    "from pathlib import Path\n",
    "\n",
    "import matplotlib.pyplot as plt\n",
    "import numpy as np\n",
    "import pandas as pd\n",
    "import ujson\n",
    "import seaborn as sns\n",
    "sns.set(context='paper', style='whitegrid', palette='muted')"
   ]
  },
  {
   "cell_type": "code",
   "execution_count": 3,
   "metadata": {},
   "outputs": [],
   "source": [
    "data_root = Path(r'../depression/result/')\n",
    "file_name = rf'../configs/depression.json'\n",
    "cfg = ujson.load(open(file_name, 'r'))\n",
    "n_trial, n_dim, n_patient = cfg['trials'], 3, 69 # [1, 69]"
   ]
  },
  {
   "cell_type": "code",
   "execution_count": 4,
   "metadata": {},
   "outputs": [],
   "source": [
    "# 读取患者标签\n",
    "with open(data_root / r'patient_label.pkl' , 'rb') as instream:\n",
    "    type_label = pickle.load(instream)"
   ]
  },
  {
   "cell_type": "markdown",
   "metadata": {},
   "source": [
    "## 1.1 每个患者的trial分析"
   ]
  },
  {
   "cell_type": "code",
   "execution_count": 5,
   "metadata": {},
   "outputs": [],
   "source": [
    "# 读取结果\n",
    "with open(data_root/ rf'WGCI_persons.pkl', 'rb') as instream:\n",
    "    WGCI_persons = pickle.load(instream)"
   ]
  },
  {
   "cell_type": "code",
   "execution_count": 6,
   "metadata": {},
   "outputs": [
    {
     "data": {
      "text/plain": [
       "(6, 3, 3)"
      ]
     },
     "execution_count": 6,
     "metadata": {},
     "output_type": "execute_result"
    }
   ],
   "source": [
    "WGCI_persons[1].shape"
   ]
  },
  {
   "cell_type": "markdown",
   "metadata": {},
   "source": [
    "### 1.1.1 可视化分析"
   ]
  },
  {
   "cell_type": "code",
   "execution_count": 7,
   "metadata": {},
   "outputs": [],
   "source": [
    "# 构造用户绘图的数据\n",
    "x_axis = [str((row, col)) for row in range(n_dim) for col in range(n_dim)] * n_trial * 69  # 患者数\n",
    "plot_data = pd.DataFrame(columns=['indexs', 'WGCI_values', 'patient_labels', 'patient_ID', 'trial_ID'])\n",
    "plot_data['indexs'] = pd.Series(x_axis)\n",
    "plot_data['patient_ID'] = pd.Series(np.array([[x] * n_trial * n_dim * n_dim for x in range(1, 70)]).reshape(-1,))\n",
    "plot_data['trial_ID'] = pd.Series(np.array([[x] * n_dim * n_dim for x in range(1, cfg['trials'] + 1)] * 69).reshape(-1,))\n",
    "v1, v2 = [], []\n",
    "for id in range(1, 70):\n",
    "    v1.append(WGCI_persons[id].reshape(-1,))\n",
    "    v2.append(([type_label[id]] * n_dim * n_dim * n_trial))\n",
    "plot_data['WGCI_values'] = pd.Series(np.array(v1).reshape(-1,))\n",
    "plot_data['patient_labels'] = pd.Series(np.array(v2).reshape(-1,))"
   ]
  },
  {
   "cell_type": "code",
   "execution_count": 8,
   "metadata": {},
   "outputs": [
    {
     "data": {
      "text/html": [
       "<div>\n",
       "<style scoped>\n",
       "    .dataframe tbody tr th:only-of-type {\n",
       "        vertical-align: middle;\n",
       "    }\n",
       "\n",
       "    .dataframe tbody tr th {\n",
       "        vertical-align: top;\n",
       "    }\n",
       "\n",
       "    .dataframe thead th {\n",
       "        text-align: right;\n",
       "    }\n",
       "</style>\n",
       "<table border=\"1\" class=\"dataframe\">\n",
       "  <thead>\n",
       "    <tr style=\"text-align: right;\">\n",
       "      <th></th>\n",
       "      <th>indexs</th>\n",
       "      <th>WGCI_values</th>\n",
       "      <th>patient_labels</th>\n",
       "      <th>patient_ID</th>\n",
       "      <th>trial_ID</th>\n",
       "    </tr>\n",
       "  </thead>\n",
       "  <tbody>\n",
       "    <tr>\n",
       "      <th>3716</th>\n",
       "      <td>(2, 2)</td>\n",
       "      <td>0.0000</td>\n",
       "      <td>high</td>\n",
       "      <td>69</td>\n",
       "      <td>5</td>\n",
       "    </tr>\n",
       "    <tr>\n",
       "      <th>3717</th>\n",
       "      <td>(0, 0)</td>\n",
       "      <td>0.0000</td>\n",
       "      <td>high</td>\n",
       "      <td>69</td>\n",
       "      <td>6</td>\n",
       "    </tr>\n",
       "    <tr>\n",
       "      <th>3718</th>\n",
       "      <td>(0, 1)</td>\n",
       "      <td>0.1291</td>\n",
       "      <td>high</td>\n",
       "      <td>69</td>\n",
       "      <td>6</td>\n",
       "    </tr>\n",
       "    <tr>\n",
       "      <th>3719</th>\n",
       "      <td>(0, 2)</td>\n",
       "      <td>0.0000</td>\n",
       "      <td>high</td>\n",
       "      <td>69</td>\n",
       "      <td>6</td>\n",
       "    </tr>\n",
       "    <tr>\n",
       "      <th>3720</th>\n",
       "      <td>(1, 0)</td>\n",
       "      <td>0.0000</td>\n",
       "      <td>high</td>\n",
       "      <td>69</td>\n",
       "      <td>6</td>\n",
       "    </tr>\n",
       "    <tr>\n",
       "      <th>3721</th>\n",
       "      <td>(1, 1)</td>\n",
       "      <td>0.0000</td>\n",
       "      <td>high</td>\n",
       "      <td>69</td>\n",
       "      <td>6</td>\n",
       "    </tr>\n",
       "    <tr>\n",
       "      <th>3722</th>\n",
       "      <td>(1, 2)</td>\n",
       "      <td>0.0000</td>\n",
       "      <td>high</td>\n",
       "      <td>69</td>\n",
       "      <td>6</td>\n",
       "    </tr>\n",
       "    <tr>\n",
       "      <th>3723</th>\n",
       "      <td>(2, 0)</td>\n",
       "      <td>0.0000</td>\n",
       "      <td>high</td>\n",
       "      <td>69</td>\n",
       "      <td>6</td>\n",
       "    </tr>\n",
       "    <tr>\n",
       "      <th>3724</th>\n",
       "      <td>(2, 1)</td>\n",
       "      <td>0.0000</td>\n",
       "      <td>high</td>\n",
       "      <td>69</td>\n",
       "      <td>6</td>\n",
       "    </tr>\n",
       "    <tr>\n",
       "      <th>3725</th>\n",
       "      <td>(2, 2)</td>\n",
       "      <td>0.0000</td>\n",
       "      <td>high</td>\n",
       "      <td>69</td>\n",
       "      <td>6</td>\n",
       "    </tr>\n",
       "  </tbody>\n",
       "</table>\n",
       "</div>"
      ],
      "text/plain": [
       "      indexs  WGCI_values patient_labels  patient_ID  trial_ID\n",
       "3716  (2, 2)       0.0000           high          69         5\n",
       "3717  (0, 0)       0.0000           high          69         6\n",
       "3718  (0, 1)       0.1291           high          69         6\n",
       "3719  (0, 2)       0.0000           high          69         6\n",
       "3720  (1, 0)       0.0000           high          69         6\n",
       "3721  (1, 1)       0.0000           high          69         6\n",
       "3722  (1, 2)       0.0000           high          69         6\n",
       "3723  (2, 0)       0.0000           high          69         6\n",
       "3724  (2, 1)       0.0000           high          69         6\n",
       "3725  (2, 2)       0.0000           high          69         6"
      ]
     },
     "execution_count": 8,
     "metadata": {},
     "output_type": "execute_result"
    }
   ],
   "source": [
    "plot_data.tail(10)"
   ]
  },
  {
   "cell_type": "code",
   "execution_count": 9,
   "metadata": {},
   "outputs": [
    {
     "name": "stdout",
     "output_type": "stream",
     "text": [
      "indexs ['(0, 0)' '(0, 1)' '(0, 2)' '(1, 0)' '(1, 1)' '(1, 2)' '(2, 0)' '(2, 1)'\n",
      " '(2, 2)']\n",
      "WGCI_values [0.00000000e+00 8.21601987e-01 1.05297005e+00 1.06332397e+00\n",
      " 6.55411005e-01 8.04850996e-01 1.04359001e-01 1.09844995e+00\n",
      " 1.91372007e-01 1.14832997e-01 3.61360013e-02 1.22106001e-01\n",
      " 1.11029996e-02 6.66470006e-02 2.72812009e-01 3.59460004e-02\n",
      " 1.17482997e-01 8.53400007e-02 5.40109985e-02 6.99490011e-02\n",
      " 3.50999995e-04 1.34188995e-01 1.49688005e-01 1.05090000e-01\n",
      " 3.17130014e-02 8.09200034e-02 8.73249993e-02 2.78510004e-02\n",
      " 3.26370001e-02 7.53000006e-02 1.77103996e-01 1.35396004e-01\n",
      " 1.81182995e-01 1.78290993e-01 8.20000004e-03 8.41059983e-02\n",
      " 2.15123996e-01 3.46710011e-02 1.95579007e-01 6.92000017e-02\n",
      " 2.92959005e-01 2.32363001e-01 1.33972004e-01 9.30460021e-02\n",
      " 6.52099997e-02 9.37450007e-02 3.96645993e-01 1.85984999e-01\n",
      " 4.53790992e-01 9.16950032e-02 6.67970031e-02 1.55300004e-02\n",
      " 1.97969992e-02 7.84699991e-03 6.09001994e-01 1.18479999e-02\n",
      " 1.82228997e-01 6.73730001e-02 1.37913004e-01 4.72593993e-01\n",
      " 3.44521999e-01 1.52058005e-01 7.03260005e-02 1.23072997e-01\n",
      " 1.37897998e-01 1.74298003e-01 1.51410000e-02 1.27809003e-01\n",
      " 2.06724003e-01 9.94199980e-03 1.52899995e-02 5.14589995e-02\n",
      " 1.14395000e-01 5.03939986e-02 3.36930007e-02 6.42210022e-02\n",
      " 8.16039965e-02 8.76799971e-03 2.74668992e-01 6.22939989e-02\n",
      " 1.56251997e-01 1.42209996e-02 3.04637015e-01 2.30940003e-02\n",
      " 2.09718004e-01 1.53426006e-01 8.35980028e-02 2.12760009e-02\n",
      " 1.82227999e-01 2.64541000e-01 2.21810997e-01 2.89903015e-01\n",
      " 2.07967997e-01 1.22794002e-01 1.16547003e-01 1.91810001e-02\n",
      " 2.54940003e-01 1.63410008e-02 1.79152995e-01 2.33350005e-02\n",
      " 6.71300013e-03 2.33420998e-01 6.56524003e-01 6.39799982e-02\n",
      " 4.68923986e-01 5.83669007e-01 7.04847991e-01 2.87934989e-01\n",
      " 4.35250998e-01 3.70267987e-01 4.00509983e-02 3.49670015e-02\n",
      " 5.83029985e-02 9.88500006e-03 1.37120001e-02 4.21440005e-02\n",
      " 7.27839991e-02 6.94599980e-03 3.47720012e-02 4.88100015e-03\n",
      " 3.76960002e-02 3.13909985e-02 2.71940008e-02 3.51249985e-02\n",
      " 8.18900019e-03 1.00260004e-02 2.33779997e-02 3.79789993e-02\n",
      " 2.16010008e-02 6.09069988e-02 6.54190034e-02 6.72260001e-02\n",
      " 5.58679998e-02 6.97659999e-02 7.07480013e-02 7.85650015e-02\n",
      " 8.16290006e-02 9.52989981e-02 6.51969984e-02 1.70060005e-02\n",
      " 9.21650007e-02 2.05589999e-02 1.77190006e-01 3.37033004e-01\n",
      " 2.48119999e-02 2.13810995e-01 6.29270002e-02 4.09500021e-03\n",
      " 1.85488001e-01 4.13240008e-02 4.70779985e-02 2.65574008e-01\n",
      " 1.10533997e-01 6.06920011e-02 1.70620009e-02 3.29699996e-03\n",
      " 2.69939005e-01 2.66678989e-01 3.48735005e-01 3.63133013e-01\n",
      " 5.92324972e-01 4.68403995e-01 3.01256001e-01 2.42786005e-01\n",
      " 6.50760010e-02 8.54509994e-02 8.97609964e-02 1.70966998e-01\n",
      " 2.98541993e-01 2.20360994e-01 1.66026995e-01 9.20590013e-02\n",
      " 2.21475005e-01 3.30734998e-01 8.00899975e-03 1.87292993e-01\n",
      " 7.75830001e-02 7.20079988e-02 7.71929994e-02 1.71140004e-02\n",
      " 2.69680005e-02 9.25400015e-03 2.47990005e-02 4.95999993e-04\n",
      " 2.12869998e-02 5.38800005e-03 1.90650001e-02 2.68799998e-02\n",
      " 1.16136706e+00 4.51040007e-02 1.08290505e+00 8.97997022e-01\n",
      " 9.71942008e-01 9.02436972e-01 1.36835802e+00 1.07260004e-01\n",
      " 6.70733988e-01 4.96720001e-02 5.34442008e-01 4.28517014e-01\n",
      " 6.57724977e-01 8.66239965e-02 5.53475976e-01 5.89902997e-01\n",
      " 4.74779993e-01 5.28299995e-03 5.87163985e-01 1.02393001e-01\n",
      " 5.82395971e-01 2.01619994e-02 6.77963018e-01 4.14332002e-01\n",
      " 7.73509964e-02 4.13186014e-01 7.28870034e-02 2.91339997e-02\n",
      " 8.19845974e-01 8.67609978e-02 7.77953029e-01 2.99636990e-01\n",
      " 5.90228975e-01 2.15533003e-01 4.12616998e-01 5.81800006e-03\n",
      " 3.00601989e-01 2.10209992e-02 5.14001012e-01 9.61579978e-02\n",
      " 1.27290994e-01 1.30269006e-01 4.71460000e-02 2.28691995e-01\n",
      " 6.63969964e-02 6.64860010e-01 1.72858998e-01 7.32882977e-01\n",
      " 4.36590999e-01 7.72410035e-02 3.98680009e-02 1.97529998e-02\n",
      " 2.82710008e-02 2.02179000e-01 4.54219989e-02 2.66847998e-01\n",
      " 7.07969964e-02 9.29590017e-02 6.80679977e-02 5.06849997e-02\n",
      " 2.36077994e-01 3.44422013e-01 4.16290015e-02 9.16400030e-02\n",
      " 2.09139004e-01 1.19937003e-01 1.15563905e+00 1.14445999e-01\n",
      " 2.77135998e-01 8.55901003e-01 3.31865013e-01 9.32560027e-01\n",
      " 1.23256099e+00 3.83400009e-03 1.14339304e+00 7.18460009e-02\n",
      " 9.92029980e-02 9.67917979e-01 1.47494003e-01 3.08434010e-01\n",
      " 1.52245000e-01 1.10834002e-01 4.01255012e-01 6.74022019e-01\n",
      " 3.17730010e-02 7.50010014e-02 3.29816014e-01 8.97990018e-02\n",
      " 3.76770012e-02 7.84100033e-03 4.06600013e-02 5.91199985e-03\n",
      " 9.67000029e-04 1.63785994e-01 3.33848000e-01 8.67379978e-02\n",
      " 3.03640008e-01 5.23650013e-02 2.67830014e-01 1.21854998e-01\n",
      " 2.27059007e-01 4.96059991e-02 1.10333003e-01 4.92594004e-01\n",
      " 1.06196001e-01 1.18293002e-01 2.89130006e-02 3.96272987e-01\n",
      " 2.48709992e-02 1.57377005e-01 4.26389985e-02 1.20398998e-01\n",
      " 5.96159995e-02 6.76150024e-02 7.34969974e-02 5.07880002e-02\n",
      " 4.93286014e-01 1.29933000e-01 2.31383994e-01 3.37283999e-01\n",
      " 1.60699993e-01 1.07992001e-01 2.29303002e-01 1.92389991e-02\n",
      " 2.04860009e-02 1.11460999e-01 2.30219997e-02 4.79970016e-02\n",
      " 4.71040010e-02 2.11804003e-01 1.94959998e-01 2.52494007e-01\n",
      " 3.19842994e-01 7.24209994e-02 2.36453995e-01 1.88549999e-02\n",
      " 2.53722012e-01 1.84263006e-01 3.85660008e-02 1.11978002e-01\n",
      " 3.58589999e-02 2.54712999e-01 1.02848999e-01 2.97229998e-02\n",
      " 6.55879974e-02 1.85182005e-01 2.19096005e-01 9.59910005e-02\n",
      " 7.20970035e-02 1.74369007e-01 2.24941999e-01 1.66209992e-02\n",
      " 9.45139974e-02 2.07219999e-02 4.56780009e-02 2.00371996e-01\n",
      " 1.28096998e-01 6.26590028e-02 2.92854011e-01 1.21156000e-01\n",
      " 1.86860003e-02 1.80990007e-02 5.44340014e-02 3.63419987e-02\n",
      " 2.08193004e-01 1.59137994e-01 1.07741997e-01 5.41000022e-03\n",
      " 1.03326999e-01 1.02580003e-02 2.67699989e-03 5.87872982e-01\n",
      " 9.95140001e-02 2.59230006e-02 6.32000016e-03 1.10523999e-01\n",
      " 3.23363990e-01 1.78862005e-01 6.84315026e-01 9.15800035e-03\n",
      " 4.77335989e-01 5.15809990e-02 3.54700000e-03 7.11710006e-02\n",
      " 3.70209999e-02 7.54019991e-02 1.08659899e+00 1.44233003e-01\n",
      " 1.21145003e-01 2.39579994e-02 2.43480001e-02 6.94319978e-02\n",
      " 4.20796990e-01 2.06879005e-01 2.88937986e-01 5.13897002e-01\n",
      " 3.31109986e-02 2.38011003e-01 2.71506011e-01 1.75900001e-03\n",
      " 9.41540003e-02 1.60117999e-01 2.96000000e-02 1.72637999e-01\n",
      " 1.29099995e-01]\n",
      "patient_labels ['high' 'mid' 'low']\n",
      "patient_ID [ 1  2  3  4  5  6  7  8  9 10 11 12 13 14 15 16 17 18 19 20 21 22 23 24\n",
      " 25 26 27 28 29 30 31 32 33 34 35 36 37 38 39 40 41 42 43 44 45 46 47 48\n",
      " 49 50 51 52 53 54 55 56 57 58 59 60 61 62 63 64 65 66 67 68 69]\n",
      "trial_ID [1 2 3 4 5 6]\n"
     ]
    }
   ],
   "source": [
    "for i in plot_data.columns:\n",
    "    print(i, plot_data[i].unique())"
   ]
  },
  {
   "cell_type": "code",
   "execution_count": 10,
   "metadata": {},
   "outputs": [],
   "source": [
    "# 保存数据\n",
    "plot_data.to_csv(data_root/'plot_data_sta_persons.csv', encoding='utf-8')"
   ]
  },
  {
   "cell_type": "markdown",
   "metadata": {},
   "source": [
    "1. **sns.boxenplot**"
   ]
  },
  {
   "cell_type": "code",
   "execution_count": 11,
   "metadata": {},
   "outputs": [
    {
     "data": {
      "text/plain": [
       "<Figure size 1296x576 with 0 Axes>"
      ]
     },
     "execution_count": 11,
     "metadata": {},
     "output_type": "execute_result"
    },
    {
     "data": {
      "image/png": "[encoded data removed]",
      "text/plain": [
       "<Figure size 1296x576 with 1 Axes>"
      ]
     },
     "metadata": {},
     "output_type": "display_data"
    }
   ],
   "source": [
    "plt.figure(figsize=(18, 8))\n",
    "ax = sns.boxenplot(x='indexs', y='WGCI_values', hue='patient_labels', data=plot_data)"
   ]
  },
  {
   "cell_type": "markdown",
   "metadata": {},
   "source": [
    "2. **sns.violinplot**"
   ]
  },
  {
   "cell_type": "code",
   "execution_count": 12,
   "metadata": {},
   "outputs": [
    {
     "data": {
      "text/plain": [
       "<Figure size 1296x576 with 0 Axes>"
      ]
     },
     "execution_count": 12,
     "metadata": {},
     "output_type": "execute_result"
    },
    {
     "name": "stderr",
     "output_type": "stream",
     "text": [
      "D:\\Softwares\\MiniConda\\envs\\torch36\\lib\\site-packages\\scipy\\stats\\stats.py:1713: FutureWarning: Using a non-tuple sequence for multidimensional indexing is deprecated; use `arr[tuple(seq)]` instead of `arr[seq]`. In the future this will be interpreted as an array index, `arr[np.array(seq)]`, which will result either in an error or a different result.\n",
      "  return np.add.reduce(sorted[indexer] * weights, axis=axis) / sumval\n"
     ]
    },
    {
     "data": {
      "image/png": "[encoded data removed]",
      "text/plain": [
       "<Figure size 1296x576 with 1 Axes>"
      ]
     },
     "metadata": {},
     "output_type": "display_data"
    }
   ],
   "source": [
    "plt.figure(figsize=(18, 8))\n",
    "ax = sns.violinplot(x='indexs', y='WGCI_values', hue='patient_labels', data=plot_data)"
   ]
  },
  {
   "cell_type": "markdown",
   "metadata": {},
   "source": [
    "3. **sns.boxplot**"
   ]
  },
  {
   "cell_type": "code",
   "execution_count": 13,
   "metadata": {},
   "outputs": [
    {
     "data": {
      "text/plain": [
       "<Figure size 1296x576 with 0 Axes>"
      ]
     },
     "execution_count": 13,
     "metadata": {},
     "output_type": "execute_result"
    },
    {
     "data": {
      "image/png": "[encoded data removed]",
      "text/plain": [
       "<Figure size 1296x576 with 1 Axes>"
      ]
     },
     "metadata": {},
     "output_type": "display_data"
    }
   ],
   "source": [
    " plt.figure(figsize=(18, 8))\n",
    " ax = sns.boxplot(x='indexs', y='WGCI_values' , hue='patient_labels',data=plot_data)"
   ]
  },
  {
   "cell_type": "markdown",
   "metadata": {},
   "source": [
    "4. **sns.swarmplot**"
   ]
  },
  {
   "cell_type": "code",
   "execution_count": 14,
   "metadata": {},
   "outputs": [],
   "source": [
    "# 数据太多，费时\n",
    "#  plt.figure(figsize=(18, 10))\n",
    "#  ax = sns.swarmplot(x='indexs', y='WGCI_values', hue='patient_labels', data=plot_data)"
   ]
  },
  {
   "cell_type": "markdown",
   "metadata": {},
   "source": [
    "5. **sns.stripplot**"
   ]
  },
  {
   "cell_type": "code",
   "execution_count": 15,
   "metadata": {},
   "outputs": [
    {
     "data": {
      "text/plain": [
       "<Figure size 1296x720 with 0 Axes>"
      ]
     },
     "execution_count": 15,
     "metadata": {},
     "output_type": "execute_result"
    },
    {
     "data": {
      "image/png": "[encoded data removed]",
      "text/plain": [
       "<Figure size 1296x720 with 1 Axes>"
      ]
     },
     "metadata": {},
     "output_type": "display_data"
    }
   ],
   "source": [
    " plt.figure(figsize=(18, 10))\n",
    " ax = sns.stripplot(x='indexs', y='WGCI_values', hue='patient_labels', data=plot_data)"
   ]
  },
  {
   "cell_type": "code",
   "execution_count": null,
   "metadata": {},
   "outputs": [],
   "source": []
  },
  {
   "cell_type": "markdown",
   "metadata": {},
   "source": [
    "## 1.2 各个患者的中值"
   ]
  },
  {
   "cell_type": "code",
   "execution_count": 16,
   "metadata": {},
   "outputs": [],
   "source": [
    "# 读取结果\n",
    "with open(data_root/ rf'WGCI_median_persons.pkl', 'rb') as instream:\n",
    "    median_data = pickle.load(instream)  # 字典"
   ]
  },
  {
   "cell_type": "markdown",
   "metadata": {},
   "source": [
    "### 读取分数信息"
   ]
  },
  {
   "cell_type": "code",
   "execution_count": 67,
   "metadata": {},
   "outputs": [],
   "source": [
    "with open(data_root / r'scores.pkl' , 'rb') as instream:\n",
    "    scores = pickle.load(instream)"
   ]
  },
  {
   "cell_type": "markdown",
   "metadata": {},
   "source": [
    "### 添加分数信息"
   ]
  },
  {
   "cell_type": "code",
   "execution_count": 109,
   "metadata": {},
   "outputs": [],
   "source": [
    "# 构造绘图的数据\n",
    "# 按行排列\n",
    "plot_data = pd.DataFrame(columns=['WGCI01','WGCI02','WGCI10','WGCI12','WGCI20',\n",
    "                                  'WGCI21','patient_label', 'patient_ID', 'score'])\n",
    "plot_data['patient_ID'] = pd.Series(np.array(range(1, 70)).reshape(-1,))\n",
    "for id in range(1, 70):\n",
    "    plot_data.loc[id - 1, 'WGCI01'] = median_data[id][0, 1]\n",
    "    plot_data.loc[id - 1, 'WGCI02'] = median_data[id][0, 2]\n",
    "    plot_data.loc[id - 1, 'WGCI10'] = median_data[id][1, 0]\n",
    "    plot_data.loc[id - 1, 'WGCI12'] = median_data[id][1, 2]\n",
    "    plot_data.loc[id - 1, 'WGCI20'] = median_data[id][2, 0]\n",
    "    plot_data.loc[id - 1, 'WGCI21'] = median_data[id][2, 1]\n",
    "    plot_data.loc[id - 1, 'patient_label'] = type_label[id]\n",
    "    plot_data.loc[id - 1, 'score'] = scores[id]"
   ]
  },
  {
   "cell_type": "code",
   "execution_count": 110,
   "metadata": {},
   "outputs": [
    {
     "data": {
      "text/html": [
       "<div>\n",
       "<style scoped>\n",
       "    .dataframe tbody tr th:only-of-type {\n",
       "        vertical-align: middle;\n",
       "    }\n",
       "\n",
       "    .dataframe tbody tr th {\n",
       "        vertical-align: top;\n",
       "    }\n",
       "\n",
       "    .dataframe thead th {\n",
       "        text-align: right;\n",
       "    }\n",
       "</style>\n",
       "<table border=\"1\" class=\"dataframe\">\n",
       "  <thead>\n",
       "    <tr style=\"text-align: right;\">\n",
       "      <th></th>\n",
       "      <th>WGCI01</th>\n",
       "      <th>WGCI02</th>\n",
       "      <th>WGCI10</th>\n",
       "      <th>WGCI12</th>\n",
       "      <th>WGCI20</th>\n",
       "      <th>WGCI21</th>\n",
       "      <th>patient_label</th>\n",
       "      <th>patient_ID</th>\n",
       "      <th>score</th>\n",
       "    </tr>\n",
       "  </thead>\n",
       "  <tbody>\n",
       "    <tr>\n",
       "      <th>64</th>\n",
       "      <td>0</td>\n",
       "      <td>0</td>\n",
       "      <td>0</td>\n",
       "      <td>0</td>\n",
       "      <td>0</td>\n",
       "      <td>0</td>\n",
       "      <td>high</td>\n",
       "      <td>65</td>\n",
       "      <td>19</td>\n",
       "    </tr>\n",
       "    <tr>\n",
       "      <th>65</th>\n",
       "      <td>0</td>\n",
       "      <td>0</td>\n",
       "      <td>0</td>\n",
       "      <td>0</td>\n",
       "      <td>0</td>\n",
       "      <td>0</td>\n",
       "      <td>high</td>\n",
       "      <td>66</td>\n",
       "      <td>19</td>\n",
       "    </tr>\n",
       "    <tr>\n",
       "      <th>66</th>\n",
       "      <td>0</td>\n",
       "      <td>0</td>\n",
       "      <td>0</td>\n",
       "      <td>0</td>\n",
       "      <td>0</td>\n",
       "      <td>0</td>\n",
       "      <td>high</td>\n",
       "      <td>67</td>\n",
       "      <td>24</td>\n",
       "    </tr>\n",
       "    <tr>\n",
       "      <th>67</th>\n",
       "      <td>0.280222</td>\n",
       "      <td>0</td>\n",
       "      <td>0</td>\n",
       "      <td>0</td>\n",
       "      <td>0</td>\n",
       "      <td>0</td>\n",
       "      <td>high</td>\n",
       "      <td>68</td>\n",
       "      <td>24</td>\n",
       "    </tr>\n",
       "    <tr>\n",
       "      <th>68</th>\n",
       "      <td>0.111627</td>\n",
       "      <td>0</td>\n",
       "      <td>0</td>\n",
       "      <td>0</td>\n",
       "      <td>0</td>\n",
       "      <td>0</td>\n",
       "      <td>high</td>\n",
       "      <td>69</td>\n",
       "      <td>24</td>\n",
       "    </tr>\n",
       "  </tbody>\n",
       "</table>\n",
       "</div>"
      ],
      "text/plain": [
       "      WGCI01 WGCI02 WGCI10 WGCI12 WGCI20 WGCI21 patient_label  patient_ID  \\\n",
       "64         0      0      0      0      0      0          high          65   \n",
       "65         0      0      0      0      0      0          high          66   \n",
       "66         0      0      0      0      0      0          high          67   \n",
       "67  0.280222      0      0      0      0      0          high          68   \n",
       "68  0.111627      0      0      0      0      0          high          69   \n",
       "\n",
       "    score  \n",
       "64     19  \n",
       "65     19  \n",
       "66     24  \n",
       "67     24  \n",
       "68     24  "
      ]
     },
     "execution_count": 110,
     "metadata": {},
     "output_type": "execute_result"
    }
   ],
   "source": [
    "plot_data.tail()"
   ]
  },
  {
   "cell_type": "code",
   "execution_count": 111,
   "metadata": {},
   "outputs": [],
   "source": [
    "plot_data.sort_values('score', inplace=True)  # 按分数排序\n",
    "# 保存绘图数据\n",
    "plot_data.to_csv(data_root/'plot_data_median_sort.csv', encoding='utf-8')"
   ]
  },
  {
   "cell_type": "code",
   "execution_count": 112,
   "metadata": {},
   "outputs": [
    {
     "data": {
      "text/html": [
       "<div>\n",
       "<style scoped>\n",
       "    .dataframe tbody tr th:only-of-type {\n",
       "        vertical-align: middle;\n",
       "    }\n",
       "\n",
       "    .dataframe tbody tr th {\n",
       "        vertical-align: top;\n",
       "    }\n",
       "\n",
       "    .dataframe thead th {\n",
       "        text-align: right;\n",
       "    }\n",
       "</style>\n",
       "<table border=\"1\" class=\"dataframe\">\n",
       "  <thead>\n",
       "    <tr style=\"text-align: right;\">\n",
       "      <th></th>\n",
       "      <th>WGCI01</th>\n",
       "      <th>WGCI02</th>\n",
       "      <th>WGCI10</th>\n",
       "      <th>WGCI12</th>\n",
       "      <th>WGCI20</th>\n",
       "      <th>WGCI21</th>\n",
       "      <th>patient_label</th>\n",
       "      <th>patient_ID</th>\n",
       "      <th>score</th>\n",
       "    </tr>\n",
       "  </thead>\n",
       "  <tbody>\n",
       "    <tr>\n",
       "      <th>57</th>\n",
       "      <td>0.179776</td>\n",
       "      <td>0</td>\n",
       "      <td>0</td>\n",
       "      <td>0</td>\n",
       "      <td>0</td>\n",
       "      <td>0</td>\n",
       "      <td>high</td>\n",
       "      <td>58</td>\n",
       "      <td>23</td>\n",
       "    </tr>\n",
       "    <tr>\n",
       "      <th>67</th>\n",
       "      <td>0.280222</td>\n",
       "      <td>0</td>\n",
       "      <td>0</td>\n",
       "      <td>0</td>\n",
       "      <td>0</td>\n",
       "      <td>0</td>\n",
       "      <td>high</td>\n",
       "      <td>68</td>\n",
       "      <td>24</td>\n",
       "    </tr>\n",
       "    <tr>\n",
       "      <th>25</th>\n",
       "      <td>0.0752635</td>\n",
       "      <td>0</td>\n",
       "      <td>0</td>\n",
       "      <td>0</td>\n",
       "      <td>0</td>\n",
       "      <td>0</td>\n",
       "      <td>high</td>\n",
       "      <td>26</td>\n",
       "      <td>24</td>\n",
       "    </tr>\n",
       "    <tr>\n",
       "      <th>66</th>\n",
       "      <td>0</td>\n",
       "      <td>0</td>\n",
       "      <td>0</td>\n",
       "      <td>0</td>\n",
       "      <td>0</td>\n",
       "      <td>0</td>\n",
       "      <td>high</td>\n",
       "      <td>67</td>\n",
       "      <td>24</td>\n",
       "    </tr>\n",
       "    <tr>\n",
       "      <th>68</th>\n",
       "      <td>0.111627</td>\n",
       "      <td>0</td>\n",
       "      <td>0</td>\n",
       "      <td>0</td>\n",
       "      <td>0</td>\n",
       "      <td>0</td>\n",
       "      <td>high</td>\n",
       "      <td>69</td>\n",
       "      <td>24</td>\n",
       "    </tr>\n",
       "  </tbody>\n",
       "</table>\n",
       "</div>"
      ],
      "text/plain": [
       "       WGCI01 WGCI02 WGCI10 WGCI12 WGCI20 WGCI21 patient_label  patient_ID  \\\n",
       "57   0.179776      0      0      0      0      0          high          58   \n",
       "67   0.280222      0      0      0      0      0          high          68   \n",
       "25  0.0752635      0      0      0      0      0          high          26   \n",
       "66          0      0      0      0      0      0          high          67   \n",
       "68   0.111627      0      0      0      0      0          high          69   \n",
       "\n",
       "    score  \n",
       "57     23  \n",
       "67     24  \n",
       "25     24  \n",
       "66     24  \n",
       "68     24  "
      ]
     },
     "execution_count": 112,
     "metadata": {},
     "output_type": "execute_result"
    }
   ],
   "source": [
    "plot_data.tail()"
   ]
  },
  {
   "cell_type": "code",
   "execution_count": 121,
   "metadata": {},
   "outputs": [
    {
     "data": {
      "text/plain": [
       "<Figure size 864x576 with 0 Axes>"
      ]
     },
     "execution_count": 121,
     "metadata": {},
     "output_type": "execute_result"
    },
    {
     "data": {
      "text/plain": [
       "[<matplotlib.lines.Line2D at 0x1dba5ce70f0>]"
      ]
     },
     "execution_count": 121,
     "metadata": {},
     "output_type": "execute_result"
    },
    {
     "data": {
      "image/png": "[encoded data removed]",
      "text/plain": [
       "<Figure size 864x576 with 1 Axes>"
      ]
     },
     "metadata": {},
     "output_type": "display_data"
    }
   ],
   "source": [
    "plt.figure(figsize=(12, 8))\n",
    "plt.plot(plot_data['score'].values, '*')"
   ]
  },
  {
   "cell_type": "code",
   "execution_count": 122,
   "metadata": {},
   "outputs": [
    {
     "data": {
      "text/plain": [
       "<Figure size 864x576 with 0 Axes>"
      ]
     },
     "execution_count": 122,
     "metadata": {},
     "output_type": "execute_result"
    },
    {
     "data": {
      "text/plain": [
       "[<matplotlib.lines.Line2D at 0x1dba62ff5c0>]"
      ]
     },
     "execution_count": 122,
     "metadata": {},
     "output_type": "execute_result"
    },
    {
     "data": {
      "image/png": "[encoded data removed]",
      "text/plain": [
       "<Figure size 864x576 with 1 Axes>"
      ]
     },
     "metadata": {},
     "output_type": "display_data"
    }
   ],
   "source": [
    "plt.figure(figsize=(12, 8))\n",
    "plt.plot(plot_data['WGCI01'].values, '*')"
   ]
  },
  {
   "cell_type": "code",
   "execution_count": 123,
   "metadata": {},
   "outputs": [
    {
     "data": {
      "text/plain": [
       "<Figure size 864x576 with 0 Axes>"
      ]
     },
     "execution_count": 123,
     "metadata": {},
     "output_type": "execute_result"
    },
    {
     "data": {
      "text/plain": [
       "[<matplotlib.lines.Line2D at 0x1dba62cdcc0>]"
      ]
     },
     "execution_count": 123,
     "metadata": {},
     "output_type": "execute_result"
    },
    {
     "data": {
      "image/png": "[encoded data removed]",
      "text/plain": [
       "<Figure size 864x576 with 1 Axes>"
      ]
     },
     "metadata": {},
     "output_type": "display_data"
    }
   ],
   "source": [
    "plt.figure(figsize=(12, 8))\n",
    "plt.plot(plot_data['WGCI02'].values, '*')"
   ]
  },
  {
   "cell_type": "code",
   "execution_count": 124,
   "metadata": {},
   "outputs": [
    {
     "data": {
      "text/plain": [
       "<Figure size 864x576 with 0 Axes>"
      ]
     },
     "execution_count": 124,
     "metadata": {},
     "output_type": "execute_result"
    },
    {
     "data": {
      "text/plain": [
       "[<matplotlib.lines.Line2D at 0x1dba63e0400>]"
      ]
     },
     "execution_count": 124,
     "metadata": {},
     "output_type": "execute_result"
    },
    {
     "data": {
      "image/png": "[encoded data removed]",
      "text/plain": [
       "<Figure size 864x576 with 1 Axes>"
      ]
     },
     "metadata": {},
     "output_type": "display_data"
    }
   ],
   "source": [
    "plt.figure(figsize=(12, 8))\n",
    "plt.plot(plot_data['WGCI10'].values, '*')"
   ]
  },
  {
   "cell_type": "code",
   "execution_count": 125,
   "metadata": {},
   "outputs": [
    {
     "data": {
      "text/plain": [
       "<Figure size 864x576 with 0 Axes>"
      ]
     },
     "execution_count": 125,
     "metadata": {},
     "output_type": "execute_result"
    },
    {
     "data": {
      "text/plain": [
       "[<matplotlib.lines.Line2D at 0x1dba60aca20>]"
      ]
     },
     "execution_count": 125,
     "metadata": {},
     "output_type": "execute_result"
    },
    {
     "data": {
      "image/png": "[encoded data removed]",
      "text/plain": [
       "<Figure size 864x576 with 1 Axes>"
      ]
     },
     "metadata": {},
     "output_type": "display_data"
    }
   ],
   "source": [
    "plt.figure(figsize=(12, 8))\n",
    "plt.plot(plot_data['WGCI12'].values, '*')"
   ]
  },
  {
   "cell_type": "code",
   "execution_count": 126,
   "metadata": {},
   "outputs": [
    {
     "data": {
      "text/plain": [
       "<Figure size 864x576 with 0 Axes>"
      ]
     },
     "execution_count": 126,
     "metadata": {},
     "output_type": "execute_result"
    },
    {
     "data": {
      "text/plain": [
       "[<matplotlib.lines.Line2D at 0x1dba5fdb518>]"
      ]
     },
     "execution_count": 126,
     "metadata": {},
     "output_type": "execute_result"
    },
    {
     "data": {
      "image/png": "[encoded data removed]",
      "text/plain": [
       "<Figure size 864x576 with 1 Axes>"
      ]
     },
     "metadata": {},
     "output_type": "display_data"
    }
   ],
   "source": [
    "plt.figure(figsize=(12, 8))\n",
    "plt.plot(plot_data['WGCI20'].values, '*')"
   ]
  },
  {
   "cell_type": "code",
   "execution_count": 127,
   "metadata": {},
   "outputs": [
    {
     "data": {
      "text/plain": [
       "<Figure size 864x576 with 0 Axes>"
      ]
     },
     "execution_count": 127,
     "metadata": {},
     "output_type": "execute_result"
    },
    {
     "data": {
      "text/plain": [
       "[<matplotlib.lines.Line2D at 0x1dba5f7ef60>]"
      ]
     },
     "execution_count": 127,
     "metadata": {},
     "output_type": "execute_result"
    },
    {
     "data": {
      "image/png": "[encoded data removed]",
      "text/plain": [
       "<Figure size 864x576 with 1 Axes>"
      ]
     },
     "metadata": {},
     "output_type": "display_data"
    }
   ],
   "source": [
    "plt.figure(figsize=(12, 8))\n",
    "plt.plot(plot_data['WGCI21'].values, '*')"
   ]
  },
  {
   "cell_type": "code",
   "execution_count": null,
   "metadata": {},
   "outputs": [],
   "source": []
  },
  {
   "cell_type": "code",
   "execution_count": 17,
   "metadata": {},
   "outputs": [
    {
     "data": {
      "text/plain": [
       "(3, 3)"
      ]
     },
     "execution_count": 17,
     "metadata": {},
     "output_type": "execute_result"
    }
   ],
   "source": []
  },
  {
   "cell_type": "code",
   "execution_count": 18,
   "metadata": {},
   "outputs": [],
   "source": [
    "# 构造绘图的数据\n",
    "x_axis = [str((row, col)) for row in range(n_dim) for col in range(n_dim)] * 69  # 患者数\n",
    "plot_data = pd.DataFrame(columns=['indexs', 'WGCI_values', 'patient_labels', 'patient_ID'])\n",
    "plot_data['indexs'] = pd.Series(x_axis)\n",
    "plot_data['patient_ID'] = pd.Series(np.array([[x] * n_dim * n_dim for x in range(1, 70)]).reshape(-1,))\n",
    "v1, v2 = [], []\n",
    "for id in range(1, 70):\n",
    "    v1.append(median_data[id].reshape(-1,))\n",
    "    v2.append(([type_label[id]] * n_dim * n_dim))\n",
    "plot_data['WGCI_values'] = pd.Series(np.array(v1).reshape(-1,))\n",
    "plot_data['patient_labels'] = pd.Series(np.array(v2).reshape(-1,))"
   ]
  },
  {
   "cell_type": "code",
   "execution_count": 19,
   "metadata": {},
   "outputs": [
    {
     "data": {
      "text/html": [
       "<div>\n",
       "<style scoped>\n",
       "    .dataframe tbody tr th:only-of-type {\n",
       "        vertical-align: middle;\n",
       "    }\n",
       "\n",
       "    .dataframe tbody tr th {\n",
       "        vertical-align: top;\n",
       "    }\n",
       "\n",
       "    .dataframe thead th {\n",
       "        text-align: right;\n",
       "    }\n",
       "</style>\n",
       "<table border=\"1\" class=\"dataframe\">\n",
       "  <thead>\n",
       "    <tr style=\"text-align: right;\">\n",
       "      <th></th>\n",
       "      <th>indexs</th>\n",
       "      <th>WGCI_values</th>\n",
       "      <th>patient_labels</th>\n",
       "      <th>patient_ID</th>\n",
       "    </tr>\n",
       "  </thead>\n",
       "  <tbody>\n",
       "    <tr>\n",
       "      <th>603</th>\n",
       "      <td>(0, 0)</td>\n",
       "      <td>0.000000</td>\n",
       "      <td>high</td>\n",
       "      <td>68</td>\n",
       "    </tr>\n",
       "    <tr>\n",
       "      <th>604</th>\n",
       "      <td>(0, 1)</td>\n",
       "      <td>0.280222</td>\n",
       "      <td>high</td>\n",
       "      <td>68</td>\n",
       "    </tr>\n",
       "    <tr>\n",
       "      <th>605</th>\n",
       "      <td>(0, 2)</td>\n",
       "      <td>0.000000</td>\n",
       "      <td>high</td>\n",
       "      <td>68</td>\n",
       "    </tr>\n",
       "    <tr>\n",
       "      <th>606</th>\n",
       "      <td>(1, 0)</td>\n",
       "      <td>0.000000</td>\n",
       "      <td>high</td>\n",
       "      <td>68</td>\n",
       "    </tr>\n",
       "    <tr>\n",
       "      <th>607</th>\n",
       "      <td>(1, 1)</td>\n",
       "      <td>0.000000</td>\n",
       "      <td>high</td>\n",
       "      <td>68</td>\n",
       "    </tr>\n",
       "    <tr>\n",
       "      <th>608</th>\n",
       "      <td>(1, 2)</td>\n",
       "      <td>0.000000</td>\n",
       "      <td>high</td>\n",
       "      <td>68</td>\n",
       "    </tr>\n",
       "    <tr>\n",
       "      <th>609</th>\n",
       "      <td>(2, 0)</td>\n",
       "      <td>0.000000</td>\n",
       "      <td>high</td>\n",
       "      <td>68</td>\n",
       "    </tr>\n",
       "    <tr>\n",
       "      <th>610</th>\n",
       "      <td>(2, 1)</td>\n",
       "      <td>0.000000</td>\n",
       "      <td>high</td>\n",
       "      <td>68</td>\n",
       "    </tr>\n",
       "    <tr>\n",
       "      <th>611</th>\n",
       "      <td>(2, 2)</td>\n",
       "      <td>0.000000</td>\n",
       "      <td>high</td>\n",
       "      <td>68</td>\n",
       "    </tr>\n",
       "    <tr>\n",
       "      <th>612</th>\n",
       "      <td>(0, 0)</td>\n",
       "      <td>0.000000</td>\n",
       "      <td>high</td>\n",
       "      <td>69</td>\n",
       "    </tr>\n",
       "    <tr>\n",
       "      <th>613</th>\n",
       "      <td>(0, 1)</td>\n",
       "      <td>0.111627</td>\n",
       "      <td>high</td>\n",
       "      <td>69</td>\n",
       "    </tr>\n",
       "    <tr>\n",
       "      <th>614</th>\n",
       "      <td>(0, 2)</td>\n",
       "      <td>0.000000</td>\n",
       "      <td>high</td>\n",
       "      <td>69</td>\n",
       "    </tr>\n",
       "    <tr>\n",
       "      <th>615</th>\n",
       "      <td>(1, 0)</td>\n",
       "      <td>0.000000</td>\n",
       "      <td>high</td>\n",
       "      <td>69</td>\n",
       "    </tr>\n",
       "    <tr>\n",
       "      <th>616</th>\n",
       "      <td>(1, 1)</td>\n",
       "      <td>0.000000</td>\n",
       "      <td>high</td>\n",
       "      <td>69</td>\n",
       "    </tr>\n",
       "    <tr>\n",
       "      <th>617</th>\n",
       "      <td>(1, 2)</td>\n",
       "      <td>0.000000</td>\n",
       "      <td>high</td>\n",
       "      <td>69</td>\n",
       "    </tr>\n",
       "    <tr>\n",
       "      <th>618</th>\n",
       "      <td>(2, 0)</td>\n",
       "      <td>0.000000</td>\n",
       "      <td>high</td>\n",
       "      <td>69</td>\n",
       "    </tr>\n",
       "    <tr>\n",
       "      <th>619</th>\n",
       "      <td>(2, 1)</td>\n",
       "      <td>0.000000</td>\n",
       "      <td>high</td>\n",
       "      <td>69</td>\n",
       "    </tr>\n",
       "    <tr>\n",
       "      <th>620</th>\n",
       "      <td>(2, 2)</td>\n",
       "      <td>0.000000</td>\n",
       "      <td>high</td>\n",
       "      <td>69</td>\n",
       "    </tr>\n",
       "  </tbody>\n",
       "</table>\n",
       "</div>"
      ],
      "text/plain": [
       "     indexs  WGCI_values patient_labels  patient_ID\n",
       "603  (0, 0)     0.000000           high          68\n",
       "604  (0, 1)     0.280222           high          68\n",
       "605  (0, 2)     0.000000           high          68\n",
       "606  (1, 0)     0.000000           high          68\n",
       "607  (1, 1)     0.000000           high          68\n",
       "608  (1, 2)     0.000000           high          68\n",
       "609  (2, 0)     0.000000           high          68\n",
       "610  (2, 1)     0.000000           high          68\n",
       "611  (2, 2)     0.000000           high          68\n",
       "612  (0, 0)     0.000000           high          69\n",
       "613  (0, 1)     0.111627           high          69\n",
       "614  (0, 2)     0.000000           high          69\n",
       "615  (1, 0)     0.000000           high          69\n",
       "616  (1, 1)     0.000000           high          69\n",
       "617  (1, 2)     0.000000           high          69\n",
       "618  (2, 0)     0.000000           high          69\n",
       "619  (2, 1)     0.000000           high          69\n",
       "620  (2, 2)     0.000000           high          69"
      ]
     },
     "execution_count": 19,
     "metadata": {},
     "output_type": "execute_result"
    },
    {
     "data": {
      "text/plain": [
       "(621, 4)"
      ]
     },
     "execution_count": 19,
     "metadata": {},
     "output_type": "execute_result"
    }
   ],
   "source": [
    "plot_data.tail(18)\n",
    "plot_data.shape"
   ]
  },
  {
   "cell_type": "code",
   "execution_count": 20,
   "metadata": {},
   "outputs": [],
   "source": [
    "# 保存绘图数据\n",
    "plot_data.to_csv(data_root/'plot_data_sta_median_persons.csv', encoding='utf-8')"
   ]
  },
  {
   "cell_type": "code",
   "execution_count": 21,
   "metadata": {},
   "outputs": [
    {
     "data": {
      "text/html": [
       "<div>\n",
       "<style scoped>\n",
       "    .dataframe tbody tr th:only-of-type {\n",
       "        vertical-align: middle;\n",
       "    }\n",
       "\n",
       "    .dataframe tbody tr th {\n",
       "        vertical-align: top;\n",
       "    }\n",
       "\n",
       "    .dataframe thead th {\n",
       "        text-align: right;\n",
       "    }\n",
       "</style>\n",
       "<table border=\"1\" class=\"dataframe\">\n",
       "  <thead>\n",
       "    <tr style=\"text-align: right;\">\n",
       "      <th></th>\n",
       "      <th>indexs</th>\n",
       "      <th>WGCI_values</th>\n",
       "      <th>patient_labels</th>\n",
       "      <th>patient_ID</th>\n",
       "    </tr>\n",
       "  </thead>\n",
       "  <tbody>\n",
       "    <tr>\n",
       "      <th>597</th>\n",
       "      <td>(1, 0)</td>\n",
       "      <td>0.000000</td>\n",
       "      <td>high</td>\n",
       "      <td>67</td>\n",
       "    </tr>\n",
       "    <tr>\n",
       "      <th>604</th>\n",
       "      <td>(0, 1)</td>\n",
       "      <td>0.280222</td>\n",
       "      <td>high</td>\n",
       "      <td>68</td>\n",
       "    </tr>\n",
       "    <tr>\n",
       "      <th>606</th>\n",
       "      <td>(1, 0)</td>\n",
       "      <td>0.000000</td>\n",
       "      <td>high</td>\n",
       "      <td>68</td>\n",
       "    </tr>\n",
       "    <tr>\n",
       "      <th>613</th>\n",
       "      <td>(0, 1)</td>\n",
       "      <td>0.111627</td>\n",
       "      <td>high</td>\n",
       "      <td>69</td>\n",
       "    </tr>\n",
       "    <tr>\n",
       "      <th>615</th>\n",
       "      <td>(1, 0)</td>\n",
       "      <td>0.000000</td>\n",
       "      <td>high</td>\n",
       "      <td>69</td>\n",
       "    </tr>\n",
       "  </tbody>\n",
       "</table>\n",
       "</div>"
      ],
      "text/plain": [
       "     indexs  WGCI_values patient_labels  patient_ID\n",
       "597  (1, 0)     0.000000           high          67\n",
       "604  (0, 1)     0.280222           high          68\n",
       "606  (1, 0)     0.000000           high          68\n",
       "613  (0, 1)     0.111627           high          69\n",
       "615  (1, 0)     0.000000           high          69"
      ]
     },
     "execution_count": 21,
     "metadata": {},
     "output_type": "execute_result"
    }
   ],
   "source": [
    "# 只显示 (0, 1), (1, 0)\n",
    "idx = np.logical_or(plot_data.indexs=='(0, 1)', plot_data.indexs=='(1, 0)')\n",
    "plot_data1 = plot_data[idx]\n",
    "plot_data1.tail()"
   ]
  },
  {
   "cell_type": "code",
   "execution_count": 22,
   "metadata": {},
   "outputs": [],
   "source": [
    "# save1 = plot_data1.sort_values('patient_labels')\n",
    "plot_data1.to_csv(data_root/'sta_median_persons2.csv', encoding='utf-8')"
   ]
  },
  {
   "cell_type": "code",
   "execution_count": null,
   "metadata": {},
   "outputs": [],
   "source": []
  },
  {
   "cell_type": "markdown",
   "metadata": {},
   "source": [
    "### 1.2.1 可视化分析\n",
    "1. `sns.boxenplot`\n",
    "2. `sns.violinplot`\n",
    "3. `sns.boxplot`\n",
    "4. `sns.swarmplot`\n",
    "5. `sns.stripplot`"
   ]
  },
  {
   "cell_type": "code",
   "execution_count": 23,
   "metadata": {},
   "outputs": [
    {
     "name": "stdout",
     "output_type": "stream",
     "text": [
      "plot_type:  boxenplot\n"
     ]
    },
    {
     "data": {
      "text/plain": [
       "<Figure size 1296x576 with 0 Axes>"
      ]
     },
     "execution_count": 23,
     "metadata": {},
     "output_type": "execute_result"
    },
    {
     "data": {
      "image/png": "[encoded data removed]",
      "text/plain": [
       "<Figure size 1296x576 with 1 Axes>"
      ]
     },
     "metadata": {},
     "output_type": "display_data"
    },
    {
     "name": "stdout",
     "output_type": "stream",
     "text": [
      "plot_type:  violinplot\n"
     ]
    },
    {
     "data": {
      "text/plain": [
       "<Figure size 1296x576 with 0 Axes>"
      ]
     },
     "execution_count": 23,
     "metadata": {},
     "output_type": "execute_result"
    },
    {
     "data": {
      "image/png": "[encoded data removed]",
      "text/plain": [
       "<Figure size 1296x576 with 1 Axes>"
      ]
     },
     "metadata": {},
     "output_type": "display_data"
    },
    {
     "name": "stdout",
     "output_type": "stream",
     "text": [
      "plot_type:  boxplot\n"
     ]
    },
    {
     "data": {
      "text/plain": [
       "<Figure size 1296x576 with 0 Axes>"
      ]
     },
     "execution_count": 23,
     "metadata": {},
     "output_type": "execute_result"
    },
    {
     "data": {
      "image/png": "[encoded data removed]",
      "text/plain": [
       "<Figure size 1296x576 with 1 Axes>"
      ]
     },
     "metadata": {},
     "output_type": "display_data"
    },
    {
     "name": "stdout",
     "output_type": "stream",
     "text": [
      "plot_type:  swarmplot\n"
     ]
    },
    {
     "data": {
      "text/plain": [
       "<Figure size 1296x576 with 0 Axes>"
      ]
     },
     "execution_count": 23,
     "metadata": {},
     "output_type": "execute_result"
    },
    {
     "data": {
      "image/png": "[encoded data removed]",
      "text/plain": [
       "<Figure size 1296x576 with 1 Axes>"
      ]
     },
     "metadata": {},
     "output_type": "display_data"
    },
    {
     "name": "stdout",
     "output_type": "stream",
     "text": [
      "plot_type:  stripplot\n"
     ]
    },
    {
     "data": {
      "text/plain": [
       "<Figure size 1296x576 with 0 Axes>"
      ]
     },
     "execution_count": 23,
     "metadata": {},
     "output_type": "execute_result"
    },
    {
     "data": {
      "image/png": "[encoded data removed]",
      "text/plain": [
       "<Figure size 1296x576 with 1 Axes>"
      ]
     },
     "metadata": {},
     "output_type": "display_data"
    }
   ],
   "source": [
    "plot_type = ['boxenplot', 'violinplot', 'boxplot', 'swarmplot', 'stripplot']\n",
    "for item in plot_type:\n",
    "    print('plot_type: ', item)\n",
    "    plt.figure(figsize=(18, 8))\n",
    "    ax = getattr(sns, item)(x='indexs', y='WGCI_values', hue='patient_labels', data=plot_data)\n",
    "    plt.show()"
   ]
  },
  {
   "cell_type": "code",
   "execution_count": null,
   "metadata": {},
   "outputs": [],
   "source": []
  },
  {
   "cell_type": "markdown",
   "metadata": {},
   "source": [
    "## 1.3 各个患者的均值"
   ]
  },
  {
   "cell_type": "code",
   "execution_count": 128,
   "metadata": {},
   "outputs": [],
   "source": [
    "# 读取结果\n",
    "with open(data_root / r'WGCI_mean_persons.pkl' , 'rb') as instream:\n",
    "    mean_data = pickle.load(instream)"
   ]
  },
  {
   "cell_type": "code",
   "execution_count": 131,
   "metadata": {},
   "outputs": [],
   "source": [
    "# 构造绘图的数据\n",
    "# 按行排列\n",
    "plot_data = pd.DataFrame(columns=['WGCI01','WGCI02','WGCI10','WGCI12','WGCI20',\n",
    "                                  'WGCI21','patient_label', 'patient_ID', 'score'])\n",
    "plot_data['patient_ID'] = pd.Series(np.array(range(1, 70)).reshape(-1,))\n",
    "for id in range(1, 70):\n",
    "    plot_data.loc[id - 1, 'WGCI01'] = median_data[id][0, 1]\n",
    "    plot_data.loc[id - 1, 'WGCI02'] = median_data[id][0, 2]\n",
    "    plot_data.loc[id - 1, 'WGCI10'] = median_data[id][1, 0]\n",
    "    plot_data.loc[id - 1, 'WGCI12'] = median_data[id][1, 2]\n",
    "    plot_data.loc[id - 1, 'WGCI20'] = median_data[id][2, 0]\n",
    "    plot_data.loc[id - 1, 'WGCI21'] = median_data[id][2, 1]\n",
    "    plot_data.loc[id - 1, 'patient_label'] = type_label[id]\n",
    "    plot_data.loc[id - 1, 'score'] = scores[id]"
   ]
  },
  {
   "cell_type": "code",
   "execution_count": 132,
   "metadata": {},
   "outputs": [],
   "source": [
    "plot_data.sort_values('score', inplace=True)  # 按分数排序\n",
    "# 保存绘图数据\n",
    "plot_data.to_csv(data_root/'plot_data_mean_sort.csv', encoding='utf-8')"
   ]
  },
  {
   "cell_type": "code",
   "execution_count": 140,
   "metadata": {},
   "outputs": [
    {
     "data": {
      "text/html": [
       "<div>\n",
       "<style scoped>\n",
       "    .dataframe tbody tr th:only-of-type {\n",
       "        vertical-align: middle;\n",
       "    }\n",
       "\n",
       "    .dataframe tbody tr th {\n",
       "        vertical-align: top;\n",
       "    }\n",
       "\n",
       "    .dataframe thead th {\n",
       "        text-align: right;\n",
       "    }\n",
       "</style>\n",
       "<table border=\"1\" class=\"dataframe\">\n",
       "  <thead>\n",
       "    <tr style=\"text-align: right;\">\n",
       "      <th></th>\n",
       "      <th>WGCI01</th>\n",
       "      <th>WGCI02</th>\n",
       "      <th>WGCI10</th>\n",
       "      <th>WGCI12</th>\n",
       "      <th>WGCI20</th>\n",
       "      <th>WGCI21</th>\n",
       "      <th>patient_label</th>\n",
       "      <th>patient_ID</th>\n",
       "      <th>score</th>\n",
       "    </tr>\n",
       "  </thead>\n",
       "  <tbody>\n",
       "    <tr>\n",
       "      <th>5</th>\n",
       "      <td>0</td>\n",
       "      <td>0</td>\n",
       "      <td>0.113509</td>\n",
       "      <td>0</td>\n",
       "      <td>0.0173355</td>\n",
       "      <td>0</td>\n",
       "      <td>low</td>\n",
       "      <td>6</td>\n",
       "      <td>0</td>\n",
       "    </tr>\n",
       "    <tr>\n",
       "      <th>9</th>\n",
       "      <td>0</td>\n",
       "      <td>0</td>\n",
       "      <td>0.263375</td>\n",
       "      <td>0</td>\n",
       "      <td>0</td>\n",
       "      <td>0</td>\n",
       "      <td>low</td>\n",
       "      <td>10</td>\n",
       "      <td>0</td>\n",
       "    </tr>\n",
       "    <tr>\n",
       "      <th>18</th>\n",
       "      <td>0</td>\n",
       "      <td>0.003473</td>\n",
       "      <td>0.0330815</td>\n",
       "      <td>0</td>\n",
       "      <td>0.022505</td>\n",
       "      <td>0</td>\n",
       "      <td>low</td>\n",
       "      <td>19</td>\n",
       "      <td>0</td>\n",
       "    </tr>\n",
       "    <tr>\n",
       "      <th>49</th>\n",
       "      <td>0</td>\n",
       "      <td>0</td>\n",
       "      <td>0</td>\n",
       "      <td>0</td>\n",
       "      <td>0</td>\n",
       "      <td>0</td>\n",
       "      <td>low</td>\n",
       "      <td>50</td>\n",
       "      <td>2</td>\n",
       "    </tr>\n",
       "    <tr>\n",
       "      <th>30</th>\n",
       "      <td>0</td>\n",
       "      <td>0</td>\n",
       "      <td>0.57032</td>\n",
       "      <td>0</td>\n",
       "      <td>0</td>\n",
       "      <td>0</td>\n",
       "      <td>low</td>\n",
       "      <td>31</td>\n",
       "      <td>3</td>\n",
       "    </tr>\n",
       "    <tr>\n",
       "      <th>12</th>\n",
       "      <td>0</td>\n",
       "      <td>0</td>\n",
       "      <td>0</td>\n",
       "      <td>0</td>\n",
       "      <td>0</td>\n",
       "      <td>0</td>\n",
       "      <td>low</td>\n",
       "      <td>13</td>\n",
       "      <td>3</td>\n",
       "    </tr>\n",
       "    <tr>\n",
       "      <th>28</th>\n",
       "      <td>0</td>\n",
       "      <td>0</td>\n",
       "      <td>0</td>\n",
       "      <td>0</td>\n",
       "      <td>0</td>\n",
       "      <td>0</td>\n",
       "      <td>low</td>\n",
       "      <td>29</td>\n",
       "      <td>4</td>\n",
       "    </tr>\n",
       "    <tr>\n",
       "      <th>2</th>\n",
       "      <td>0</td>\n",
       "      <td>0</td>\n",
       "      <td>0</td>\n",
       "      <td>0</td>\n",
       "      <td>0</td>\n",
       "      <td>0</td>\n",
       "      <td>low</td>\n",
       "      <td>3</td>\n",
       "      <td>4</td>\n",
       "    </tr>\n",
       "    <tr>\n",
       "      <th>3</th>\n",
       "      <td>0.093005</td>\n",
       "      <td>0.032175</td>\n",
       "      <td>0</td>\n",
       "      <td>0</td>\n",
       "      <td>0</td>\n",
       "      <td>0</td>\n",
       "      <td>low</td>\n",
       "      <td>4</td>\n",
       "      <td>4</td>\n",
       "    </tr>\n",
       "    <tr>\n",
       "      <th>48</th>\n",
       "      <td>0</td>\n",
       "      <td>0</td>\n",
       "      <td>0.172676</td>\n",
       "      <td>0</td>\n",
       "      <td>0.0144565</td>\n",
       "      <td>0</td>\n",
       "      <td>low</td>\n",
       "      <td>49</td>\n",
       "      <td>5</td>\n",
       "    </tr>\n",
       "    <tr>\n",
       "      <th>56</th>\n",
       "      <td>0</td>\n",
       "      <td>0</td>\n",
       "      <td>0</td>\n",
       "      <td>0</td>\n",
       "      <td>0</td>\n",
       "      <td>0</td>\n",
       "      <td>low</td>\n",
       "      <td>57</td>\n",
       "      <td>6</td>\n",
       "    </tr>\n",
       "    <tr>\n",
       "      <th>26</th>\n",
       "      <td>0.168497</td>\n",
       "      <td>0</td>\n",
       "      <td>0</td>\n",
       "      <td>0</td>\n",
       "      <td>0</td>\n",
       "      <td>0</td>\n",
       "      <td>low</td>\n",
       "      <td>27</td>\n",
       "      <td>7</td>\n",
       "    </tr>\n",
       "    <tr>\n",
       "      <th>39</th>\n",
       "      <td>0</td>\n",
       "      <td>0.0515185</td>\n",
       "      <td>1.05566</td>\n",
       "      <td>0.035923</td>\n",
       "      <td>0</td>\n",
       "      <td>0</td>\n",
       "      <td>low</td>\n",
       "      <td>40</td>\n",
       "      <td>7</td>\n",
       "    </tr>\n",
       "    <tr>\n",
       "      <th>15</th>\n",
       "      <td>0.0033565</td>\n",
       "      <td>0</td>\n",
       "      <td>0.14785</td>\n",
       "      <td>0</td>\n",
       "      <td>0</td>\n",
       "      <td>0</td>\n",
       "      <td>low</td>\n",
       "      <td>16</td>\n",
       "      <td>7</td>\n",
       "    </tr>\n",
       "    <tr>\n",
       "      <th>20</th>\n",
       "      <td>0.0102795</td>\n",
       "      <td>0.008503</td>\n",
       "      <td>0</td>\n",
       "      <td>0.0020475</td>\n",
       "      <td>0</td>\n",
       "      <td>0</td>\n",
       "      <td>low</td>\n",
       "      <td>21</td>\n",
       "      <td>7</td>\n",
       "    </tr>\n",
       "    <tr>\n",
       "      <th>53</th>\n",
       "      <td>0</td>\n",
       "      <td>0</td>\n",
       "      <td>0</td>\n",
       "      <td>0</td>\n",
       "      <td>0</td>\n",
       "      <td>0</td>\n",
       "      <td>mid</td>\n",
       "      <td>54</td>\n",
       "      <td>8</td>\n",
       "    </tr>\n",
       "    <tr>\n",
       "      <th>33</th>\n",
       "      <td>0</td>\n",
       "      <td>0</td>\n",
       "      <td>0.332641</td>\n",
       "      <td>0</td>\n",
       "      <td>0</td>\n",
       "      <td>0</td>\n",
       "      <td>mid</td>\n",
       "      <td>34</td>\n",
       "      <td>8</td>\n",
       "    </tr>\n",
       "    <tr>\n",
       "      <th>11</th>\n",
       "      <td>0.068949</td>\n",
       "      <td>0.0479125</td>\n",
       "      <td>0.0152155</td>\n",
       "      <td>0.0283935</td>\n",
       "      <td>0.05784</td>\n",
       "      <td>0.0926835</td>\n",
       "      <td>mid</td>\n",
       "      <td>12</td>\n",
       "      <td>8</td>\n",
       "    </tr>\n",
       "    <tr>\n",
       "      <th>22</th>\n",
       "      <td>0</td>\n",
       "      <td>0</td>\n",
       "      <td>0</td>\n",
       "      <td>0</td>\n",
       "      <td>0</td>\n",
       "      <td>0</td>\n",
       "      <td>mid</td>\n",
       "      <td>23</td>\n",
       "      <td>8</td>\n",
       "    </tr>\n",
       "    <tr>\n",
       "      <th>35</th>\n",
       "      <td>0</td>\n",
       "      <td>0</td>\n",
       "      <td>0</td>\n",
       "      <td>0</td>\n",
       "      <td>0</td>\n",
       "      <td>0</td>\n",
       "      <td>mid</td>\n",
       "      <td>36</td>\n",
       "      <td>9</td>\n",
       "    </tr>\n",
       "    <tr>\n",
       "      <th>10</th>\n",
       "      <td>0</td>\n",
       "      <td>0</td>\n",
       "      <td>0</td>\n",
       "      <td>0</td>\n",
       "      <td>0</td>\n",
       "      <td>0</td>\n",
       "      <td>mid</td>\n",
       "      <td>11</td>\n",
       "      <td>9</td>\n",
       "    </tr>\n",
       "    <tr>\n",
       "      <th>24</th>\n",
       "      <td>0</td>\n",
       "      <td>0</td>\n",
       "      <td>0.355934</td>\n",
       "      <td>0</td>\n",
       "      <td>0</td>\n",
       "      <td>0</td>\n",
       "      <td>mid</td>\n",
       "      <td>25</td>\n",
       "      <td>9</td>\n",
       "    </tr>\n",
       "    <tr>\n",
       "      <th>31</th>\n",
       "      <td>0</td>\n",
       "      <td>0</td>\n",
       "      <td>0.63018</td>\n",
       "      <td>0</td>\n",
       "      <td>0</td>\n",
       "      <td>0</td>\n",
       "      <td>mid</td>\n",
       "      <td>32</td>\n",
       "      <td>10</td>\n",
       "    </tr>\n",
       "    <tr>\n",
       "      <th>21</th>\n",
       "      <td>0</td>\n",
       "      <td>0</td>\n",
       "      <td>0.085613</td>\n",
       "      <td>0</td>\n",
       "      <td>0</td>\n",
       "      <td>0</td>\n",
       "      <td>mid</td>\n",
       "      <td>22</td>\n",
       "      <td>10</td>\n",
       "    </tr>\n",
       "    <tr>\n",
       "      <th>1</th>\n",
       "      <td>0.0512965</td>\n",
       "      <td>0</td>\n",
       "      <td>0.0236195</td>\n",
       "      <td>0</td>\n",
       "      <td>0</td>\n",
       "      <td>0</td>\n",
       "      <td>mid</td>\n",
       "      <td>2</td>\n",
       "      <td>12</td>\n",
       "    </tr>\n",
       "    <tr>\n",
       "      <th>14</th>\n",
       "      <td>0</td>\n",
       "      <td>0</td>\n",
       "      <td>0.214889</td>\n",
       "      <td>0</td>\n",
       "      <td>0</td>\n",
       "      <td>0</td>\n",
       "      <td>mid</td>\n",
       "      <td>15</td>\n",
       "      <td>12</td>\n",
       "    </tr>\n",
       "    <tr>\n",
       "      <th>42</th>\n",
       "      <td>0</td>\n",
       "      <td>0</td>\n",
       "      <td>0</td>\n",
       "      <td>0</td>\n",
       "      <td>0</td>\n",
       "      <td>0</td>\n",
       "      <td>mid</td>\n",
       "      <td>43</td>\n",
       "      <td>12</td>\n",
       "    </tr>\n",
       "    <tr>\n",
       "      <th>8</th>\n",
       "      <td>0</td>\n",
       "      <td>0</td>\n",
       "      <td>0</td>\n",
       "      <td>0</td>\n",
       "      <td>0</td>\n",
       "      <td>0</td>\n",
       "      <td>mid</td>\n",
       "      <td>9</td>\n",
       "      <td>13</td>\n",
       "    </tr>\n",
       "    <tr>\n",
       "      <th>16</th>\n",
       "      <td>0.526296</td>\n",
       "      <td>0</td>\n",
       "      <td>0</td>\n",
       "      <td>0</td>\n",
       "      <td>0</td>\n",
       "      <td>0</td>\n",
       "      <td>mid</td>\n",
       "      <td>17</td>\n",
       "      <td>13</td>\n",
       "    </tr>\n",
       "    <tr>\n",
       "      <th>55</th>\n",
       "      <td>0</td>\n",
       "      <td>0</td>\n",
       "      <td>0.245088</td>\n",
       "      <td>0</td>\n",
       "      <td>0</td>\n",
       "      <td>0</td>\n",
       "      <td>mid</td>\n",
       "      <td>56</td>\n",
       "      <td>13</td>\n",
       "    </tr>\n",
       "    <tr>\n",
       "      <th>...</th>\n",
       "      <td>...</td>\n",
       "      <td>...</td>\n",
       "      <td>...</td>\n",
       "      <td>...</td>\n",
       "      <td>...</td>\n",
       "      <td>...</td>\n",
       "      <td>...</td>\n",
       "      <td>...</td>\n",
       "      <td>...</td>\n",
       "    </tr>\n",
       "    <tr>\n",
       "      <th>47</th>\n",
       "      <td>0</td>\n",
       "      <td>0</td>\n",
       "      <td>0</td>\n",
       "      <td>0</td>\n",
       "      <td>0</td>\n",
       "      <td>0</td>\n",
       "      <td>mid</td>\n",
       "      <td>48</td>\n",
       "      <td>16</td>\n",
       "    </tr>\n",
       "    <tr>\n",
       "      <th>43</th>\n",
       "      <td>0</td>\n",
       "      <td>0</td>\n",
       "      <td>0</td>\n",
       "      <td>0</td>\n",
       "      <td>0</td>\n",
       "      <td>0</td>\n",
       "      <td>mid</td>\n",
       "      <td>44</td>\n",
       "      <td>16</td>\n",
       "    </tr>\n",
       "    <tr>\n",
       "      <th>34</th>\n",
       "      <td>0</td>\n",
       "      <td>0</td>\n",
       "      <td>0</td>\n",
       "      <td>0</td>\n",
       "      <td>0</td>\n",
       "      <td>0</td>\n",
       "      <td>mid</td>\n",
       "      <td>35</td>\n",
       "      <td>16</td>\n",
       "    </tr>\n",
       "    <tr>\n",
       "      <th>63</th>\n",
       "      <td>0</td>\n",
       "      <td>0</td>\n",
       "      <td>0</td>\n",
       "      <td>0</td>\n",
       "      <td>0</td>\n",
       "      <td>0</td>\n",
       "      <td>mid</td>\n",
       "      <td>64</td>\n",
       "      <td>16</td>\n",
       "    </tr>\n",
       "    <tr>\n",
       "      <th>32</th>\n",
       "      <td>0</td>\n",
       "      <td>0</td>\n",
       "      <td>0.356609</td>\n",
       "      <td>0.002909</td>\n",
       "      <td>0</td>\n",
       "      <td>0</td>\n",
       "      <td>mid</td>\n",
       "      <td>33</td>\n",
       "      <td>16</td>\n",
       "    </tr>\n",
       "    <tr>\n",
       "      <th>23</th>\n",
       "      <td>0</td>\n",
       "      <td>0</td>\n",
       "      <td>0</td>\n",
       "      <td>0</td>\n",
       "      <td>0</td>\n",
       "      <td>0</td>\n",
       "      <td>mid</td>\n",
       "      <td>24</td>\n",
       "      <td>16</td>\n",
       "    </tr>\n",
       "    <tr>\n",
       "      <th>58</th>\n",
       "      <td>0</td>\n",
       "      <td>0</td>\n",
       "      <td>0</td>\n",
       "      <td>0</td>\n",
       "      <td>0</td>\n",
       "      <td>0</td>\n",
       "      <td>mid</td>\n",
       "      <td>59</td>\n",
       "      <td>17</td>\n",
       "    </tr>\n",
       "    <tr>\n",
       "      <th>36</th>\n",
       "      <td>0.0141355</td>\n",
       "      <td>0</td>\n",
       "      <td>0</td>\n",
       "      <td>0</td>\n",
       "      <td>0</td>\n",
       "      <td>0</td>\n",
       "      <td>mid</td>\n",
       "      <td>37</td>\n",
       "      <td>17</td>\n",
       "    </tr>\n",
       "    <tr>\n",
       "      <th>61</th>\n",
       "      <td>0.007834</td>\n",
       "      <td>0</td>\n",
       "      <td>0</td>\n",
       "      <td>0</td>\n",
       "      <td>0</td>\n",
       "      <td>0</td>\n",
       "      <td>mid</td>\n",
       "      <td>62</td>\n",
       "      <td>17</td>\n",
       "    </tr>\n",
       "    <tr>\n",
       "      <th>62</th>\n",
       "      <td>0.049757</td>\n",
       "      <td>0</td>\n",
       "      <td>0.004579</td>\n",
       "      <td>0</td>\n",
       "      <td>0</td>\n",
       "      <td>0</td>\n",
       "      <td>mid</td>\n",
       "      <td>63</td>\n",
       "      <td>17</td>\n",
       "    </tr>\n",
       "    <tr>\n",
       "      <th>6</th>\n",
       "      <td>0</td>\n",
       "      <td>0</td>\n",
       "      <td>0</td>\n",
       "      <td>0</td>\n",
       "      <td>0</td>\n",
       "      <td>0</td>\n",
       "      <td>high</td>\n",
       "      <td>7</td>\n",
       "      <td>18</td>\n",
       "    </tr>\n",
       "    <tr>\n",
       "      <th>19</th>\n",
       "      <td>0</td>\n",
       "      <td>0</td>\n",
       "      <td>0.005013</td>\n",
       "      <td>0</td>\n",
       "      <td>0.0189895</td>\n",
       "      <td>0</td>\n",
       "      <td>high</td>\n",
       "      <td>20</td>\n",
       "      <td>18</td>\n",
       "    </tr>\n",
       "    <tr>\n",
       "      <th>60</th>\n",
       "      <td>0</td>\n",
       "      <td>0</td>\n",
       "      <td>0</td>\n",
       "      <td>0</td>\n",
       "      <td>0</td>\n",
       "      <td>0.0090495</td>\n",
       "      <td>high</td>\n",
       "      <td>61</td>\n",
       "      <td>18</td>\n",
       "    </tr>\n",
       "    <tr>\n",
       "      <th>38</th>\n",
       "      <td>0</td>\n",
       "      <td>0</td>\n",
       "      <td>0.0666345</td>\n",
       "      <td>0</td>\n",
       "      <td>0</td>\n",
       "      <td>0</td>\n",
       "      <td>high</td>\n",
       "      <td>39</td>\n",
       "      <td>18</td>\n",
       "    </tr>\n",
       "    <tr>\n",
       "      <th>65</th>\n",
       "      <td>0</td>\n",
       "      <td>0</td>\n",
       "      <td>0</td>\n",
       "      <td>0</td>\n",
       "      <td>0</td>\n",
       "      <td>0</td>\n",
       "      <td>high</td>\n",
       "      <td>66</td>\n",
       "      <td>19</td>\n",
       "    </tr>\n",
       "    <tr>\n",
       "      <th>64</th>\n",
       "      <td>0</td>\n",
       "      <td>0</td>\n",
       "      <td>0</td>\n",
       "      <td>0</td>\n",
       "      <td>0</td>\n",
       "      <td>0</td>\n",
       "      <td>high</td>\n",
       "      <td>65</td>\n",
       "      <td>19</td>\n",
       "    </tr>\n",
       "    <tr>\n",
       "      <th>4</th>\n",
       "      <td>0</td>\n",
       "      <td>0</td>\n",
       "      <td>0.109751</td>\n",
       "      <td>0</td>\n",
       "      <td>0</td>\n",
       "      <td>0</td>\n",
       "      <td>high</td>\n",
       "      <td>5</td>\n",
       "      <td>19</td>\n",
       "    </tr>\n",
       "    <tr>\n",
       "      <th>13</th>\n",
       "      <td>0</td>\n",
       "      <td>0</td>\n",
       "      <td>0</td>\n",
       "      <td>0</td>\n",
       "      <td>0</td>\n",
       "      <td>0</td>\n",
       "      <td>high</td>\n",
       "      <td>14</td>\n",
       "      <td>20</td>\n",
       "    </tr>\n",
       "    <tr>\n",
       "      <th>45</th>\n",
       "      <td>0.215808</td>\n",
       "      <td>0</td>\n",
       "      <td>0</td>\n",
       "      <td>0</td>\n",
       "      <td>0</td>\n",
       "      <td>0</td>\n",
       "      <td>high</td>\n",
       "      <td>46</td>\n",
       "      <td>20</td>\n",
       "    </tr>\n",
       "    <tr>\n",
       "      <th>41</th>\n",
       "      <td>0</td>\n",
       "      <td>0</td>\n",
       "      <td>0.319125</td>\n",
       "      <td>0</td>\n",
       "      <td>0</td>\n",
       "      <td>0</td>\n",
       "      <td>high</td>\n",
       "      <td>42</td>\n",
       "      <td>20</td>\n",
       "    </tr>\n",
       "    <tr>\n",
       "      <th>7</th>\n",
       "      <td>0</td>\n",
       "      <td>0</td>\n",
       "      <td>0.13884</td>\n",
       "      <td>0</td>\n",
       "      <td>0</td>\n",
       "      <td>0</td>\n",
       "      <td>high</td>\n",
       "      <td>8</td>\n",
       "      <td>21</td>\n",
       "    </tr>\n",
       "    <tr>\n",
       "      <th>51</th>\n",
       "      <td>0</td>\n",
       "      <td>0</td>\n",
       "      <td>0</td>\n",
       "      <td>0</td>\n",
       "      <td>0</td>\n",
       "      <td>0</td>\n",
       "      <td>high</td>\n",
       "      <td>52</td>\n",
       "      <td>21</td>\n",
       "    </tr>\n",
       "    <tr>\n",
       "      <th>0</th>\n",
       "      <td>0</td>\n",
       "      <td>0</td>\n",
       "      <td>0.937286</td>\n",
       "      <td>0</td>\n",
       "      <td>0</td>\n",
       "      <td>0</td>\n",
       "      <td>high</td>\n",
       "      <td>1</td>\n",
       "      <td>22</td>\n",
       "    </tr>\n",
       "    <tr>\n",
       "      <th>50</th>\n",
       "      <td>0</td>\n",
       "      <td>0</td>\n",
       "      <td>0</td>\n",
       "      <td>0.0636155</td>\n",
       "      <td>0</td>\n",
       "      <td>0</td>\n",
       "      <td>high</td>\n",
       "      <td>51</td>\n",
       "      <td>22</td>\n",
       "    </tr>\n",
       "    <tr>\n",
       "      <th>40</th>\n",
       "      <td>0</td>\n",
       "      <td>0</td>\n",
       "      <td>0</td>\n",
       "      <td>0</td>\n",
       "      <td>0</td>\n",
       "      <td>0</td>\n",
       "      <td>high</td>\n",
       "      <td>41</td>\n",
       "      <td>23</td>\n",
       "    </tr>\n",
       "    <tr>\n",
       "      <th>57</th>\n",
       "      <td>0.179776</td>\n",
       "      <td>0</td>\n",
       "      <td>0</td>\n",
       "      <td>0</td>\n",
       "      <td>0</td>\n",
       "      <td>0</td>\n",
       "      <td>high</td>\n",
       "      <td>58</td>\n",
       "      <td>23</td>\n",
       "    </tr>\n",
       "    <tr>\n",
       "      <th>67</th>\n",
       "      <td>0.280222</td>\n",
       "      <td>0</td>\n",
       "      <td>0</td>\n",
       "      <td>0</td>\n",
       "      <td>0</td>\n",
       "      <td>0</td>\n",
       "      <td>high</td>\n",
       "      <td>68</td>\n",
       "      <td>24</td>\n",
       "    </tr>\n",
       "    <tr>\n",
       "      <th>25</th>\n",
       "      <td>0.0752635</td>\n",
       "      <td>0</td>\n",
       "      <td>0</td>\n",
       "      <td>0</td>\n",
       "      <td>0</td>\n",
       "      <td>0</td>\n",
       "      <td>high</td>\n",
       "      <td>26</td>\n",
       "      <td>24</td>\n",
       "    </tr>\n",
       "    <tr>\n",
       "      <th>66</th>\n",
       "      <td>0</td>\n",
       "      <td>0</td>\n",
       "      <td>0</td>\n",
       "      <td>0</td>\n",
       "      <td>0</td>\n",
       "      <td>0</td>\n",
       "      <td>high</td>\n",
       "      <td>67</td>\n",
       "      <td>24</td>\n",
       "    </tr>\n",
       "    <tr>\n",
       "      <th>68</th>\n",
       "      <td>0.111627</td>\n",
       "      <td>0</td>\n",
       "      <td>0</td>\n",
       "      <td>0</td>\n",
       "      <td>0</td>\n",
       "      <td>0</td>\n",
       "      <td>high</td>\n",
       "      <td>69</td>\n",
       "      <td>24</td>\n",
       "    </tr>\n",
       "  </tbody>\n",
       "</table>\n",
       "<p>69 rows × 9 columns</p>\n",
       "</div>"
      ],
      "text/plain": [
       "       WGCI01     WGCI02     WGCI10     WGCI12     WGCI20     WGCI21  \\\n",
       "5           0          0   0.113509          0  0.0173355          0   \n",
       "9           0          0   0.263375          0          0          0   \n",
       "18          0   0.003473  0.0330815          0   0.022505          0   \n",
       "49          0          0          0          0          0          0   \n",
       "30          0          0    0.57032          0          0          0   \n",
       "12          0          0          0          0          0          0   \n",
       "28          0          0          0          0          0          0   \n",
       "2           0          0          0          0          0          0   \n",
       "3    0.093005   0.032175          0          0          0          0   \n",
       "48          0          0   0.172676          0  0.0144565          0   \n",
       "56          0          0          0          0          0          0   \n",
       "26   0.168497          0          0          0          0          0   \n",
       "39          0  0.0515185    1.05566   0.035923          0          0   \n",
       "15  0.0033565          0    0.14785          0          0          0   \n",
       "20  0.0102795   0.008503          0  0.0020475          0          0   \n",
       "53          0          0          0          0          0          0   \n",
       "33          0          0   0.332641          0          0          0   \n",
       "11   0.068949  0.0479125  0.0152155  0.0283935    0.05784  0.0926835   \n",
       "22          0          0          0          0          0          0   \n",
       "35          0          0          0          0          0          0   \n",
       "10          0          0          0          0          0          0   \n",
       "24          0          0   0.355934          0          0          0   \n",
       "31          0          0    0.63018          0          0          0   \n",
       "21          0          0   0.085613          0          0          0   \n",
       "1   0.0512965          0  0.0236195          0          0          0   \n",
       "14          0          0   0.214889          0          0          0   \n",
       "42          0          0          0          0          0          0   \n",
       "8           0          0          0          0          0          0   \n",
       "16   0.526296          0          0          0          0          0   \n",
       "55          0          0   0.245088          0          0          0   \n",
       "..        ...        ...        ...        ...        ...        ...   \n",
       "47          0          0          0          0          0          0   \n",
       "43          0          0          0          0          0          0   \n",
       "34          0          0          0          0          0          0   \n",
       "63          0          0          0          0          0          0   \n",
       "32          0          0   0.356609   0.002909          0          0   \n",
       "23          0          0          0          0          0          0   \n",
       "58          0          0          0          0          0          0   \n",
       "36  0.0141355          0          0          0          0          0   \n",
       "61   0.007834          0          0          0          0          0   \n",
       "62   0.049757          0   0.004579          0          0          0   \n",
       "6           0          0          0          0          0          0   \n",
       "19          0          0   0.005013          0  0.0189895          0   \n",
       "60          0          0          0          0          0  0.0090495   \n",
       "38          0          0  0.0666345          0          0          0   \n",
       "65          0          0          0          0          0          0   \n",
       "64          0          0          0          0          0          0   \n",
       "4           0          0   0.109751          0          0          0   \n",
       "13          0          0          0          0          0          0   \n",
       "45   0.215808          0          0          0          0          0   \n",
       "41          0          0   0.319125          0          0          0   \n",
       "7           0          0    0.13884          0          0          0   \n",
       "51          0          0          0          0          0          0   \n",
       "0           0          0   0.937286          0          0          0   \n",
       "50          0          0          0  0.0636155          0          0   \n",
       "40          0          0          0          0          0          0   \n",
       "57   0.179776          0          0          0          0          0   \n",
       "67   0.280222          0          0          0          0          0   \n",
       "25  0.0752635          0          0          0          0          0   \n",
       "66          0          0          0          0          0          0   \n",
       "68   0.111627          0          0          0          0          0   \n",
       "\n",
       "   patient_label  patient_ID  score  \n",
       "5            low           6      0  \n",
       "9            low          10      0  \n",
       "18           low          19      0  \n",
       "49           low          50      2  \n",
       "30           low          31      3  \n",
       "12           low          13      3  \n",
       "28           low          29      4  \n",
       "2            low           3      4  \n",
       "3            low           4      4  \n",
       "48           low          49      5  \n",
       "56           low          57      6  \n",
       "26           low          27      7  \n",
       "39           low          40      7  \n",
       "15           low          16      7  \n",
       "20           low          21      7  \n",
       "53           mid          54      8  \n",
       "33           mid          34      8  \n",
       "11           mid          12      8  \n",
       "22           mid          23      8  \n",
       "35           mid          36      9  \n",
       "10           mid          11      9  \n",
       "24           mid          25      9  \n",
       "31           mid          32     10  \n",
       "21           mid          22     10  \n",
       "1            mid           2     12  \n",
       "14           mid          15     12  \n",
       "42           mid          43     12  \n",
       "8            mid           9     13  \n",
       "16           mid          17     13  \n",
       "55           mid          56     13  \n",
       "..           ...         ...    ...  \n",
       "47           mid          48     16  \n",
       "43           mid          44     16  \n",
       "34           mid          35     16  \n",
       "63           mid          64     16  \n",
       "32           mid          33     16  \n",
       "23           mid          24     16  \n",
       "58           mid          59     17  \n",
       "36           mid          37     17  \n",
       "61           mid          62     17  \n",
       "62           mid          63     17  \n",
       "6           high           7     18  \n",
       "19          high          20     18  \n",
       "60          high          61     18  \n",
       "38          high          39     18  \n",
       "65          high          66     19  \n",
       "64          high          65     19  \n",
       "4           high           5     19  \n",
       "13          high          14     20  \n",
       "45          high          46     20  \n",
       "41          high          42     20  \n",
       "7           high           8     21  \n",
       "51          high          52     21  \n",
       "0           high           1     22  \n",
       "50          high          51     22  \n",
       "40          high          41     23  \n",
       "57          high          58     23  \n",
       "67          high          68     24  \n",
       "25          high          26     24  \n",
       "66          high          67     24  \n",
       "68          high          69     24  \n",
       "\n",
       "[69 rows x 9 columns]"
      ]
     },
     "execution_count": 140,
     "metadata": {},
     "output_type": "execute_result"
    }
   ],
   "source": [
    "plot_data"
   ]
  },
  {
   "cell_type": "code",
   "execution_count": 133,
   "metadata": {},
   "outputs": [
    {
     "data": {
      "text/plain": [
       "<Figure size 864x576 with 0 Axes>"
      ]
     },
     "execution_count": 133,
     "metadata": {},
     "output_type": "execute_result"
    },
    {
     "data": {
      "text/plain": [
       "[<matplotlib.lines.Line2D at 0x1dba6073d30>]"
      ]
     },
     "execution_count": 133,
     "metadata": {},
     "output_type": "execute_result"
    },
    {
     "data": {
      "image/png": "[encoded data removed]",
      "text/plain": [
       "<Figure size 864x576 with 1 Axes>"
      ]
     },
     "metadata": {},
     "output_type": "display_data"
    }
   ],
   "source": [
    "plt.figure(figsize=(12, 8))\n",
    "plt.plot(plot_data['score'].values, '*')"
   ]
  },
  {
   "cell_type": "code",
   "execution_count": 134,
   "metadata": {},
   "outputs": [
    {
     "data": {
      "text/plain": [
       "<Figure size 864x576 with 0 Axes>"
      ]
     },
     "execution_count": 134,
     "metadata": {},
     "output_type": "execute_result"
    },
    {
     "data": {
      "text/plain": [
       "[<matplotlib.lines.Line2D at 0x1dba611e2b0>]"
      ]
     },
     "execution_count": 134,
     "metadata": {},
     "output_type": "execute_result"
    },
    {
     "data": {
      "image/png": "[encoded data removed]",
      "text/plain": [
       "<Figure size 864x576 with 1 Axes>"
      ]
     },
     "metadata": {},
     "output_type": "display_data"
    }
   ],
   "source": [
    "plt.figure(figsize=(12, 8))\n",
    "plt.plot(plot_data['WGCI01'].values, '*')"
   ]
  },
  {
   "cell_type": "code",
   "execution_count": 135,
   "metadata": {},
   "outputs": [
    {
     "data": {
      "text/plain": [
       "<Figure size 864x576 with 0 Axes>"
      ]
     },
     "execution_count": 135,
     "metadata": {},
     "output_type": "execute_result"
    },
    {
     "data": {
      "text/plain": [
       "[<matplotlib.lines.Line2D at 0x1dba658c080>]"
      ]
     },
     "execution_count": 135,
     "metadata": {},
     "output_type": "execute_result"
    },
    {
     "data": {
      "image/png": "[encoded data removed]",
      "text/plain": [
       "<Figure size 864x576 with 1 Axes>"
      ]
     },
     "metadata": {},
     "output_type": "display_data"
    }
   ],
   "source": [
    "plt.figure(figsize=(12, 8))\n",
    "plt.plot(plot_data['WGCI02'].values, '*')"
   ]
  },
  {
   "cell_type": "code",
   "execution_count": 136,
   "metadata": {},
   "outputs": [
    {
     "data": {
      "text/plain": [
       "<Figure size 864x576 with 0 Axes>"
      ]
     },
     "execution_count": 136,
     "metadata": {},
     "output_type": "execute_result"
    },
    {
     "data": {
      "text/plain": [
       "[<matplotlib.lines.Line2D at 0x1dba65cb0b8>]"
      ]
     },
     "execution_count": 136,
     "metadata": {},
     "output_type": "execute_result"
    },
    {
     "data": {
      "image/png": "[encoded data removed]",
      "text/plain": [
       "<Figure size 864x576 with 1 Axes>"
      ]
     },
     "metadata": {},
     "output_type": "display_data"
    }
   ],
   "source": [
    "plt.figure(figsize=(12, 8))\n",
    "plt.plot(plot_data['WGCI10'].values, '*')"
   ]
  },
  {
   "cell_type": "code",
   "execution_count": 137,
   "metadata": {},
   "outputs": [
    {
     "data": {
      "text/plain": [
       "<Figure size 864x576 with 0 Axes>"
      ]
     },
     "execution_count": 137,
     "metadata": {},
     "output_type": "execute_result"
    },
    {
     "data": {
      "text/plain": [
       "[<matplotlib.lines.Line2D at 0x1dba6a35fd0>]"
      ]
     },
     "execution_count": 137,
     "metadata": {},
     "output_type": "execute_result"
    },
    {
     "data": {
      "image/png": "[encoded data removed]",
      "text/plain": [
       "<Figure size 864x576 with 1 Axes>"
      ]
     },
     "metadata": {},
     "output_type": "display_data"
    }
   ],
   "source": [
    "plt.figure(figsize=(12, 8))\n",
    "plt.plot(plot_data['WGCI12'].values, '*')"
   ]
  },
  {
   "cell_type": "code",
   "execution_count": 138,
   "metadata": {},
   "outputs": [
    {
     "data": {
      "text/plain": [
       "<Figure size 864x576 with 0 Axes>"
      ]
     },
     "execution_count": 138,
     "metadata": {},
     "output_type": "execute_result"
    },
    {
     "data": {
      "text/plain": [
       "[<matplotlib.lines.Line2D at 0x1dba7161400>]"
      ]
     },
     "execution_count": 138,
     "metadata": {},
     "output_type": "execute_result"
    },
    {
     "data": {
      "image/png": "[encoded data removed]",
      "text/plain": [
       "<Figure size 864x576 with 1 Axes>"
      ]
     },
     "metadata": {},
     "output_type": "display_data"
    }
   ],
   "source": [
    "plt.figure(figsize=(12, 8))\n",
    "plt.plot(plot_data['WGCI20'].values, '*')"
   ]
  },
  {
   "cell_type": "code",
   "execution_count": 139,
   "metadata": {},
   "outputs": [
    {
     "data": {
      "text/plain": [
       "<Figure size 864x576 with 0 Axes>"
      ]
     },
     "execution_count": 139,
     "metadata": {},
     "output_type": "execute_result"
    },
    {
     "data": {
      "text/plain": [
       "[<matplotlib.lines.Line2D at 0x1dba71b47f0>]"
      ]
     },
     "execution_count": 139,
     "metadata": {},
     "output_type": "execute_result"
    },
    {
     "data": {
      "image/png": "[encoded data removed]",
      "text/plain": [
       "<Figure size 864x576 with 1 Axes>"
      ]
     },
     "metadata": {},
     "output_type": "display_data"
    }
   ],
   "source": [
    "plt.figure(figsize=(12, 8))\n",
    "plt.plot(plot_data['WGCI21'].values, '*')"
   ]
  },
  {
   "cell_type": "code",
   "execution_count": null,
   "metadata": {},
   "outputs": [],
   "source": []
  },
  {
   "cell_type": "code",
   "execution_count": null,
   "metadata": {},
   "outputs": [],
   "source": []
  },
  {
   "cell_type": "code",
   "execution_count": null,
   "metadata": {},
   "outputs": [],
   "source": []
  },
  {
   "cell_type": "code",
   "execution_count": 26,
   "metadata": {},
   "outputs": [],
   "source": [
    "# 构造绘图的数据\n",
    "x_axis = [str((row, col)) for row in range(n_dim) for col in range(n_dim)] * 69  # 患者数\n",
    "plot_data = pd.DataFrame(columns=['indexs', 'WGCI_values', 'patient_labels', 'patient_ID'])\n",
    "plot_data['indexs'] = pd.Series(x_axis)\n",
    "plot_data['patient_ID'] = pd.Series(np.array([[x] * n_dim * n_dim for x in range(1, 70)]).reshape(-1,))\n",
    "v1, v2 = [], []\n",
    "for id in range(1, 70):\n",
    "    v1.append(mean_data[id].reshape(-1,))\n",
    "    v2.append(([type_label[id]] * n_dim * n_dim))\n",
    "plot_data['WGCI_values'] = pd.Series(np.array(v1).reshape(-1,))\n",
    "plot_data['patient_labels'] = pd.Series(np.array(v2).reshape(-1,))"
   ]
  },
  {
   "cell_type": "code",
   "execution_count": 27,
   "metadata": {},
   "outputs": [
    {
     "data": {
      "text/html": [
       "<div>\n",
       "<style scoped>\n",
       "    .dataframe tbody tr th:only-of-type {\n",
       "        vertical-align: middle;\n",
       "    }\n",
       "\n",
       "    .dataframe tbody tr th {\n",
       "        vertical-align: top;\n",
       "    }\n",
       "\n",
       "    .dataframe thead th {\n",
       "        text-align: right;\n",
       "    }\n",
       "</style>\n",
       "<table border=\"1\" class=\"dataframe\">\n",
       "  <thead>\n",
       "    <tr style=\"text-align: right;\">\n",
       "      <th></th>\n",
       "      <th>indexs</th>\n",
       "      <th>WGCI_values</th>\n",
       "      <th>patient_labels</th>\n",
       "      <th>patient_ID</th>\n",
       "    </tr>\n",
       "  </thead>\n",
       "  <tbody>\n",
       "    <tr>\n",
       "      <th>603</th>\n",
       "      <td>(0, 0)</td>\n",
       "      <td>0.000000</td>\n",
       "      <td>high</td>\n",
       "      <td>68</td>\n",
       "    </tr>\n",
       "    <tr>\n",
       "      <th>604</th>\n",
       "      <td>(0, 1)</td>\n",
       "      <td>0.323338</td>\n",
       "      <td>high</td>\n",
       "      <td>68</td>\n",
       "    </tr>\n",
       "    <tr>\n",
       "      <th>605</th>\n",
       "      <td>(0, 2)</td>\n",
       "      <td>0.000000</td>\n",
       "      <td>high</td>\n",
       "      <td>68</td>\n",
       "    </tr>\n",
       "    <tr>\n",
       "      <th>606</th>\n",
       "      <td>(1, 0)</td>\n",
       "      <td>0.000000</td>\n",
       "      <td>high</td>\n",
       "      <td>68</td>\n",
       "    </tr>\n",
       "    <tr>\n",
       "      <th>607</th>\n",
       "      <td>(1, 1)</td>\n",
       "      <td>0.000000</td>\n",
       "      <td>high</td>\n",
       "      <td>68</td>\n",
       "    </tr>\n",
       "    <tr>\n",
       "      <th>608</th>\n",
       "      <td>(1, 2)</td>\n",
       "      <td>0.000000</td>\n",
       "      <td>high</td>\n",
       "      <td>68</td>\n",
       "    </tr>\n",
       "    <tr>\n",
       "      <th>609</th>\n",
       "      <td>(2, 0)</td>\n",
       "      <td>0.000000</td>\n",
       "      <td>high</td>\n",
       "      <td>68</td>\n",
       "    </tr>\n",
       "    <tr>\n",
       "      <th>610</th>\n",
       "      <td>(2, 1)</td>\n",
       "      <td>0.005518</td>\n",
       "      <td>high</td>\n",
       "      <td>68</td>\n",
       "    </tr>\n",
       "    <tr>\n",
       "      <th>611</th>\n",
       "      <td>(2, 2)</td>\n",
       "      <td>0.000000</td>\n",
       "      <td>high</td>\n",
       "      <td>68</td>\n",
       "    </tr>\n",
       "    <tr>\n",
       "      <th>612</th>\n",
       "      <td>(0, 0)</td>\n",
       "      <td>0.000000</td>\n",
       "      <td>high</td>\n",
       "      <td>69</td>\n",
       "    </tr>\n",
       "    <tr>\n",
       "      <th>613</th>\n",
       "      <td>(0, 1)</td>\n",
       "      <td>0.097895</td>\n",
       "      <td>high</td>\n",
       "      <td>69</td>\n",
       "    </tr>\n",
       "    <tr>\n",
       "      <th>614</th>\n",
       "      <td>(0, 2)</td>\n",
       "      <td>0.000000</td>\n",
       "      <td>high</td>\n",
       "      <td>69</td>\n",
       "    </tr>\n",
       "    <tr>\n",
       "      <th>615</th>\n",
       "      <td>(1, 0)</td>\n",
       "      <td>0.000000</td>\n",
       "      <td>high</td>\n",
       "      <td>69</td>\n",
       "    </tr>\n",
       "    <tr>\n",
       "      <th>616</th>\n",
       "      <td>(1, 1)</td>\n",
       "      <td>0.000000</td>\n",
       "      <td>high</td>\n",
       "      <td>69</td>\n",
       "    </tr>\n",
       "    <tr>\n",
       "      <th>617</th>\n",
       "      <td>(1, 2)</td>\n",
       "      <td>0.000000</td>\n",
       "      <td>high</td>\n",
       "      <td>69</td>\n",
       "    </tr>\n",
       "    <tr>\n",
       "      <th>618</th>\n",
       "      <td>(2, 0)</td>\n",
       "      <td>0.000000</td>\n",
       "      <td>high</td>\n",
       "      <td>69</td>\n",
       "    </tr>\n",
       "    <tr>\n",
       "      <th>619</th>\n",
       "      <td>(2, 1)</td>\n",
       "      <td>0.000000</td>\n",
       "      <td>high</td>\n",
       "      <td>69</td>\n",
       "    </tr>\n",
       "    <tr>\n",
       "      <th>620</th>\n",
       "      <td>(2, 2)</td>\n",
       "      <td>0.000000</td>\n",
       "      <td>high</td>\n",
       "      <td>69</td>\n",
       "    </tr>\n",
       "  </tbody>\n",
       "</table>\n",
       "</div>"
      ],
      "text/plain": [
       "     indexs  WGCI_values patient_labels  patient_ID\n",
       "603  (0, 0)     0.000000           high          68\n",
       "604  (0, 1)     0.323338           high          68\n",
       "605  (0, 2)     0.000000           high          68\n",
       "606  (1, 0)     0.000000           high          68\n",
       "607  (1, 1)     0.000000           high          68\n",
       "608  (1, 2)     0.000000           high          68\n",
       "609  (2, 0)     0.000000           high          68\n",
       "610  (2, 1)     0.005518           high          68\n",
       "611  (2, 2)     0.000000           high          68\n",
       "612  (0, 0)     0.000000           high          69\n",
       "613  (0, 1)     0.097895           high          69\n",
       "614  (0, 2)     0.000000           high          69\n",
       "615  (1, 0)     0.000000           high          69\n",
       "616  (1, 1)     0.000000           high          69\n",
       "617  (1, 2)     0.000000           high          69\n",
       "618  (2, 0)     0.000000           high          69\n",
       "619  (2, 1)     0.000000           high          69\n",
       "620  (2, 2)     0.000000           high          69"
      ]
     },
     "execution_count": 27,
     "metadata": {},
     "output_type": "execute_result"
    },
    {
     "data": {
      "text/html": [
       "<div>\n",
       "<style scoped>\n",
       "    .dataframe tbody tr th:only-of-type {\n",
       "        vertical-align: middle;\n",
       "    }\n",
       "\n",
       "    .dataframe tbody tr th {\n",
       "        vertical-align: top;\n",
       "    }\n",
       "\n",
       "    .dataframe thead th {\n",
       "        text-align: right;\n",
       "    }\n",
       "</style>\n",
       "<table border=\"1\" class=\"dataframe\">\n",
       "  <thead>\n",
       "    <tr style=\"text-align: right;\">\n",
       "      <th></th>\n",
       "      <th>indexs</th>\n",
       "      <th>WGCI_values</th>\n",
       "      <th>patient_labels</th>\n",
       "      <th>patient_ID</th>\n",
       "    </tr>\n",
       "  </thead>\n",
       "  <tbody>\n",
       "    <tr>\n",
       "      <th>0</th>\n",
       "      <td>(0, 0)</td>\n",
       "      <td>0.000000</td>\n",
       "      <td>high</td>\n",
       "      <td>1</td>\n",
       "    </tr>\n",
       "    <tr>\n",
       "      <th>1</th>\n",
       "      <td>(0, 1)</td>\n",
       "      <td>0.000000</td>\n",
       "      <td>high</td>\n",
       "      <td>1</td>\n",
       "    </tr>\n",
       "    <tr>\n",
       "      <th>2</th>\n",
       "      <td>(0, 2)</td>\n",
       "      <td>0.017393</td>\n",
       "      <td>high</td>\n",
       "      <td>1</td>\n",
       "    </tr>\n",
       "    <tr>\n",
       "      <th>3</th>\n",
       "      <td>(1, 0)</td>\n",
       "      <td>0.916101</td>\n",
       "      <td>high</td>\n",
       "      <td>1</td>\n",
       "    </tr>\n",
       "    <tr>\n",
       "      <th>4</th>\n",
       "      <td>(1, 1)</td>\n",
       "      <td>0.000000</td>\n",
       "      <td>high</td>\n",
       "      <td>1</td>\n",
       "    </tr>\n",
       "    <tr>\n",
       "      <th>5</th>\n",
       "      <td>(1, 2)</td>\n",
       "      <td>0.031895</td>\n",
       "      <td>high</td>\n",
       "      <td>1</td>\n",
       "    </tr>\n",
       "    <tr>\n",
       "      <th>6</th>\n",
       "      <td>(2, 0)</td>\n",
       "      <td>0.000000</td>\n",
       "      <td>high</td>\n",
       "      <td>1</td>\n",
       "    </tr>\n",
       "    <tr>\n",
       "      <th>7</th>\n",
       "      <td>(2, 1)</td>\n",
       "      <td>0.000000</td>\n",
       "      <td>high</td>\n",
       "      <td>1</td>\n",
       "    </tr>\n",
       "    <tr>\n",
       "      <th>8</th>\n",
       "      <td>(2, 2)</td>\n",
       "      <td>0.000000</td>\n",
       "      <td>high</td>\n",
       "      <td>1</td>\n",
       "    </tr>\n",
       "    <tr>\n",
       "      <th>9</th>\n",
       "      <td>(0, 0)</td>\n",
       "      <td>0.000000</td>\n",
       "      <td>mid</td>\n",
       "      <td>2</td>\n",
       "    </tr>\n",
       "    <tr>\n",
       "      <th>10</th>\n",
       "      <td>(0, 1)</td>\n",
       "      <td>0.055818</td>\n",
       "      <td>mid</td>\n",
       "      <td>2</td>\n",
       "    </tr>\n",
       "    <tr>\n",
       "      <th>11</th>\n",
       "      <td>(0, 2)</td>\n",
       "      <td>0.000000</td>\n",
       "      <td>mid</td>\n",
       "      <td>2</td>\n",
       "    </tr>\n",
       "    <tr>\n",
       "      <th>12</th>\n",
       "      <td>(1, 0)</td>\n",
       "      <td>0.067565</td>\n",
       "      <td>mid</td>\n",
       "      <td>2</td>\n",
       "    </tr>\n",
       "    <tr>\n",
       "      <th>13</th>\n",
       "      <td>(1, 1)</td>\n",
       "      <td>0.000000</td>\n",
       "      <td>mid</td>\n",
       "      <td>2</td>\n",
       "    </tr>\n",
       "    <tr>\n",
       "      <th>14</th>\n",
       "      <td>(1, 2)</td>\n",
       "      <td>0.029353</td>\n",
       "      <td>mid</td>\n",
       "      <td>2</td>\n",
       "    </tr>\n",
       "    <tr>\n",
       "      <th>15</th>\n",
       "      <td>(2, 0)</td>\n",
       "      <td>0.000000</td>\n",
       "      <td>mid</td>\n",
       "      <td>2</td>\n",
       "    </tr>\n",
       "    <tr>\n",
       "      <th>16</th>\n",
       "      <td>(2, 1)</td>\n",
       "      <td>0.000000</td>\n",
       "      <td>mid</td>\n",
       "      <td>2</td>\n",
       "    </tr>\n",
       "    <tr>\n",
       "      <th>17</th>\n",
       "      <td>(2, 2)</td>\n",
       "      <td>0.000000</td>\n",
       "      <td>mid</td>\n",
       "      <td>2</td>\n",
       "    </tr>\n",
       "    <tr>\n",
       "      <th>18</th>\n",
       "      <td>(0, 0)</td>\n",
       "      <td>0.000000</td>\n",
       "      <td>low</td>\n",
       "      <td>3</td>\n",
       "    </tr>\n",
       "    <tr>\n",
       "      <th>19</th>\n",
       "      <td>(0, 1)</td>\n",
       "      <td>0.000000</td>\n",
       "      <td>low</td>\n",
       "      <td>3</td>\n",
       "    </tr>\n",
       "    <tr>\n",
       "      <th>20</th>\n",
       "      <td>(0, 2)</td>\n",
       "      <td>0.000000</td>\n",
       "      <td>low</td>\n",
       "      <td>3</td>\n",
       "    </tr>\n",
       "    <tr>\n",
       "      <th>21</th>\n",
       "      <td>(1, 0)</td>\n",
       "      <td>0.011717</td>\n",
       "      <td>low</td>\n",
       "      <td>3</td>\n",
       "    </tr>\n",
       "    <tr>\n",
       "      <th>22</th>\n",
       "      <td>(1, 1)</td>\n",
       "      <td>0.000000</td>\n",
       "      <td>low</td>\n",
       "      <td>3</td>\n",
       "    </tr>\n",
       "    <tr>\n",
       "      <th>23</th>\n",
       "      <td>(1, 2)</td>\n",
       "      <td>0.000000</td>\n",
       "      <td>low</td>\n",
       "      <td>3</td>\n",
       "    </tr>\n",
       "    <tr>\n",
       "      <th>24</th>\n",
       "      <td>(2, 0)</td>\n",
       "      <td>0.000000</td>\n",
       "      <td>low</td>\n",
       "      <td>3</td>\n",
       "    </tr>\n",
       "    <tr>\n",
       "      <th>25</th>\n",
       "      <td>(2, 1)</td>\n",
       "      <td>0.000000</td>\n",
       "      <td>low</td>\n",
       "      <td>3</td>\n",
       "    </tr>\n",
       "    <tr>\n",
       "      <th>26</th>\n",
       "      <td>(2, 2)</td>\n",
       "      <td>0.000000</td>\n",
       "      <td>low</td>\n",
       "      <td>3</td>\n",
       "    </tr>\n",
       "    <tr>\n",
       "      <th>27</th>\n",
       "      <td>(0, 0)</td>\n",
       "      <td>0.000000</td>\n",
       "      <td>low</td>\n",
       "      <td>4</td>\n",
       "    </tr>\n",
       "    <tr>\n",
       "      <th>28</th>\n",
       "      <td>(0, 1)</td>\n",
       "      <td>0.095506</td>\n",
       "      <td>low</td>\n",
       "      <td>4</td>\n",
       "    </tr>\n",
       "    <tr>\n",
       "      <th>29</th>\n",
       "      <td>(0, 2)</td>\n",
       "      <td>0.054796</td>\n",
       "      <td>low</td>\n",
       "      <td>4</td>\n",
       "    </tr>\n",
       "    <tr>\n",
       "      <th>...</th>\n",
       "      <td>...</td>\n",
       "      <td>...</td>\n",
       "      <td>...</td>\n",
       "      <td>...</td>\n",
       "    </tr>\n",
       "    <tr>\n",
       "      <th>591</th>\n",
       "      <td>(2, 0)</td>\n",
       "      <td>0.008051</td>\n",
       "      <td>high</td>\n",
       "      <td>66</td>\n",
       "    </tr>\n",
       "    <tr>\n",
       "      <th>592</th>\n",
       "      <td>(2, 1)</td>\n",
       "      <td>0.011572</td>\n",
       "      <td>high</td>\n",
       "      <td>66</td>\n",
       "    </tr>\n",
       "    <tr>\n",
       "      <th>593</th>\n",
       "      <td>(2, 2)</td>\n",
       "      <td>0.000000</td>\n",
       "      <td>high</td>\n",
       "      <td>66</td>\n",
       "    </tr>\n",
       "    <tr>\n",
       "      <th>594</th>\n",
       "      <td>(0, 0)</td>\n",
       "      <td>0.000000</td>\n",
       "      <td>high</td>\n",
       "      <td>67</td>\n",
       "    </tr>\n",
       "    <tr>\n",
       "      <th>595</th>\n",
       "      <td>(0, 1)</td>\n",
       "      <td>0.000000</td>\n",
       "      <td>high</td>\n",
       "      <td>67</td>\n",
       "    </tr>\n",
       "    <tr>\n",
       "      <th>596</th>\n",
       "      <td>(0, 2)</td>\n",
       "      <td>0.000000</td>\n",
       "      <td>high</td>\n",
       "      <td>67</td>\n",
       "    </tr>\n",
       "    <tr>\n",
       "      <th>597</th>\n",
       "      <td>(1, 0)</td>\n",
       "      <td>0.000000</td>\n",
       "      <td>high</td>\n",
       "      <td>67</td>\n",
       "    </tr>\n",
       "    <tr>\n",
       "      <th>598</th>\n",
       "      <td>(1, 1)</td>\n",
       "      <td>0.000000</td>\n",
       "      <td>high</td>\n",
       "      <td>67</td>\n",
       "    </tr>\n",
       "    <tr>\n",
       "      <th>599</th>\n",
       "      <td>(1, 2)</td>\n",
       "      <td>0.000000</td>\n",
       "      <td>high</td>\n",
       "      <td>67</td>\n",
       "    </tr>\n",
       "    <tr>\n",
       "      <th>600</th>\n",
       "      <td>(2, 0)</td>\n",
       "      <td>0.000000</td>\n",
       "      <td>high</td>\n",
       "      <td>67</td>\n",
       "    </tr>\n",
       "    <tr>\n",
       "      <th>601</th>\n",
       "      <td>(2, 1)</td>\n",
       "      <td>0.000000</td>\n",
       "      <td>high</td>\n",
       "      <td>67</td>\n",
       "    </tr>\n",
       "    <tr>\n",
       "      <th>602</th>\n",
       "      <td>(2, 2)</td>\n",
       "      <td>0.000000</td>\n",
       "      <td>high</td>\n",
       "      <td>67</td>\n",
       "    </tr>\n",
       "    <tr>\n",
       "      <th>603</th>\n",
       "      <td>(0, 0)</td>\n",
       "      <td>0.000000</td>\n",
       "      <td>high</td>\n",
       "      <td>68</td>\n",
       "    </tr>\n",
       "    <tr>\n",
       "      <th>604</th>\n",
       "      <td>(0, 1)</td>\n",
       "      <td>0.323338</td>\n",
       "      <td>high</td>\n",
       "      <td>68</td>\n",
       "    </tr>\n",
       "    <tr>\n",
       "      <th>605</th>\n",
       "      <td>(0, 2)</td>\n",
       "      <td>0.000000</td>\n",
       "      <td>high</td>\n",
       "      <td>68</td>\n",
       "    </tr>\n",
       "    <tr>\n",
       "      <th>606</th>\n",
       "      <td>(1, 0)</td>\n",
       "      <td>0.000000</td>\n",
       "      <td>high</td>\n",
       "      <td>68</td>\n",
       "    </tr>\n",
       "    <tr>\n",
       "      <th>607</th>\n",
       "      <td>(1, 1)</td>\n",
       "      <td>0.000000</td>\n",
       "      <td>high</td>\n",
       "      <td>68</td>\n",
       "    </tr>\n",
       "    <tr>\n",
       "      <th>608</th>\n",
       "      <td>(1, 2)</td>\n",
       "      <td>0.000000</td>\n",
       "      <td>high</td>\n",
       "      <td>68</td>\n",
       "    </tr>\n",
       "    <tr>\n",
       "      <th>609</th>\n",
       "      <td>(2, 0)</td>\n",
       "      <td>0.000000</td>\n",
       "      <td>high</td>\n",
       "      <td>68</td>\n",
       "    </tr>\n",
       "    <tr>\n",
       "      <th>610</th>\n",
       "      <td>(2, 1)</td>\n",
       "      <td>0.005518</td>\n",
       "      <td>high</td>\n",
       "      <td>68</td>\n",
       "    </tr>\n",
       "    <tr>\n",
       "      <th>611</th>\n",
       "      <td>(2, 2)</td>\n",
       "      <td>0.000000</td>\n",
       "      <td>high</td>\n",
       "      <td>68</td>\n",
       "    </tr>\n",
       "    <tr>\n",
       "      <th>612</th>\n",
       "      <td>(0, 0)</td>\n",
       "      <td>0.000000</td>\n",
       "      <td>high</td>\n",
       "      <td>69</td>\n",
       "    </tr>\n",
       "    <tr>\n",
       "      <th>613</th>\n",
       "      <td>(0, 1)</td>\n",
       "      <td>0.097895</td>\n",
       "      <td>high</td>\n",
       "      <td>69</td>\n",
       "    </tr>\n",
       "    <tr>\n",
       "      <th>614</th>\n",
       "      <td>(0, 2)</td>\n",
       "      <td>0.000000</td>\n",
       "      <td>high</td>\n",
       "      <td>69</td>\n",
       "    </tr>\n",
       "    <tr>\n",
       "      <th>615</th>\n",
       "      <td>(1, 0)</td>\n",
       "      <td>0.000000</td>\n",
       "      <td>high</td>\n",
       "      <td>69</td>\n",
       "    </tr>\n",
       "    <tr>\n",
       "      <th>616</th>\n",
       "      <td>(1, 1)</td>\n",
       "      <td>0.000000</td>\n",
       "      <td>high</td>\n",
       "      <td>69</td>\n",
       "    </tr>\n",
       "    <tr>\n",
       "      <th>617</th>\n",
       "      <td>(1, 2)</td>\n",
       "      <td>0.000000</td>\n",
       "      <td>high</td>\n",
       "      <td>69</td>\n",
       "    </tr>\n",
       "    <tr>\n",
       "      <th>618</th>\n",
       "      <td>(2, 0)</td>\n",
       "      <td>0.000000</td>\n",
       "      <td>high</td>\n",
       "      <td>69</td>\n",
       "    </tr>\n",
       "    <tr>\n",
       "      <th>619</th>\n",
       "      <td>(2, 1)</td>\n",
       "      <td>0.000000</td>\n",
       "      <td>high</td>\n",
       "      <td>69</td>\n",
       "    </tr>\n",
       "    <tr>\n",
       "      <th>620</th>\n",
       "      <td>(2, 2)</td>\n",
       "      <td>0.000000</td>\n",
       "      <td>high</td>\n",
       "      <td>69</td>\n",
       "    </tr>\n",
       "  </tbody>\n",
       "</table>\n",
       "<p>621 rows × 4 columns</p>\n",
       "</div>"
      ],
      "text/plain": [
       "     indexs  WGCI_values patient_labels  patient_ID\n",
       "0    (0, 0)     0.000000           high           1\n",
       "1    (0, 1)     0.000000           high           1\n",
       "2    (0, 2)     0.017393           high           1\n",
       "3    (1, 0)     0.916101           high           1\n",
       "4    (1, 1)     0.000000           high           1\n",
       "5    (1, 2)     0.031895           high           1\n",
       "6    (2, 0)     0.000000           high           1\n",
       "7    (2, 1)     0.000000           high           1\n",
       "8    (2, 2)     0.000000           high           1\n",
       "9    (0, 0)     0.000000            mid           2\n",
       "10   (0, 1)     0.055818            mid           2\n",
       "11   (0, 2)     0.000000            mid           2\n",
       "12   (1, 0)     0.067565            mid           2\n",
       "13   (1, 1)     0.000000            mid           2\n",
       "14   (1, 2)     0.029353            mid           2\n",
       "15   (2, 0)     0.000000            mid           2\n",
       "16   (2, 1)     0.000000            mid           2\n",
       "17   (2, 2)     0.000000            mid           2\n",
       "18   (0, 0)     0.000000            low           3\n",
       "19   (0, 1)     0.000000            low           3\n",
       "20   (0, 2)     0.000000            low           3\n",
       "21   (1, 0)     0.011717            low           3\n",
       "22   (1, 1)     0.000000            low           3\n",
       "23   (1, 2)     0.000000            low           3\n",
       "24   (2, 0)     0.000000            low           3\n",
       "25   (2, 1)     0.000000            low           3\n",
       "26   (2, 2)     0.000000            low           3\n",
       "27   (0, 0)     0.000000            low           4\n",
       "28   (0, 1)     0.095506            low           4\n",
       "29   (0, 2)     0.054796            low           4\n",
       "..      ...          ...            ...         ...\n",
       "591  (2, 0)     0.008051           high          66\n",
       "592  (2, 1)     0.011572           high          66\n",
       "593  (2, 2)     0.000000           high          66\n",
       "594  (0, 0)     0.000000           high          67\n",
       "595  (0, 1)     0.000000           high          67\n",
       "596  (0, 2)     0.000000           high          67\n",
       "597  (1, 0)     0.000000           high          67\n",
       "598  (1, 1)     0.000000           high          67\n",
       "599  (1, 2)     0.000000           high          67\n",
       "600  (2, 0)     0.000000           high          67\n",
       "601  (2, 1)     0.000000           high          67\n",
       "602  (2, 2)     0.000000           high          67\n",
       "603  (0, 0)     0.000000           high          68\n",
       "604  (0, 1)     0.323338           high          68\n",
       "605  (0, 2)     0.000000           high          68\n",
       "606  (1, 0)     0.000000           high          68\n",
       "607  (1, 1)     0.000000           high          68\n",
       "608  (1, 2)     0.000000           high          68\n",
       "609  (2, 0)     0.000000           high          68\n",
       "610  (2, 1)     0.005518           high          68\n",
       "611  (2, 2)     0.000000           high          68\n",
       "612  (0, 0)     0.000000           high          69\n",
       "613  (0, 1)     0.097895           high          69\n",
       "614  (0, 2)     0.000000           high          69\n",
       "615  (1, 0)     0.000000           high          69\n",
       "616  (1, 1)     0.000000           high          69\n",
       "617  (1, 2)     0.000000           high          69\n",
       "618  (2, 0)     0.000000           high          69\n",
       "619  (2, 1)     0.000000           high          69\n",
       "620  (2, 2)     0.000000           high          69\n",
       "\n",
       "[621 rows x 4 columns]"
      ]
     },
     "execution_count": 27,
     "metadata": {},
     "output_type": "execute_result"
    }
   ],
   "source": [
    "plot_data.tail(18)\n",
    "plot_data"
   ]
  },
  {
   "cell_type": "code",
   "execution_count": 28,
   "metadata": {},
   "outputs": [],
   "source": [
    "# 保存绘图数据\n",
    "plot_data.to_csv(data_root/'plot_data_sta_mean_persons.csv', encoding='utf-8')"
   ]
  },
  {
   "cell_type": "code",
   "execution_count": 29,
   "metadata": {},
   "outputs": [
    {
     "data": {
      "text/html": [
       "<div>\n",
       "<style scoped>\n",
       "    .dataframe tbody tr th:only-of-type {\n",
       "        vertical-align: middle;\n",
       "    }\n",
       "\n",
       "    .dataframe tbody tr th {\n",
       "        vertical-align: top;\n",
       "    }\n",
       "\n",
       "    .dataframe thead th {\n",
       "        text-align: right;\n",
       "    }\n",
       "</style>\n",
       "<table border=\"1\" class=\"dataframe\">\n",
       "  <thead>\n",
       "    <tr style=\"text-align: right;\">\n",
       "      <th></th>\n",
       "      <th>indexs</th>\n",
       "      <th>WGCI_values</th>\n",
       "      <th>patient_labels</th>\n",
       "      <th>patient_ID</th>\n",
       "    </tr>\n",
       "  </thead>\n",
       "  <tbody>\n",
       "    <tr>\n",
       "      <th>597</th>\n",
       "      <td>(1, 0)</td>\n",
       "      <td>0.000000</td>\n",
       "      <td>high</td>\n",
       "      <td>67</td>\n",
       "    </tr>\n",
       "    <tr>\n",
       "      <th>604</th>\n",
       "      <td>(0, 1)</td>\n",
       "      <td>0.323338</td>\n",
       "      <td>high</td>\n",
       "      <td>68</td>\n",
       "    </tr>\n",
       "    <tr>\n",
       "      <th>606</th>\n",
       "      <td>(1, 0)</td>\n",
       "      <td>0.000000</td>\n",
       "      <td>high</td>\n",
       "      <td>68</td>\n",
       "    </tr>\n",
       "    <tr>\n",
       "      <th>613</th>\n",
       "      <td>(0, 1)</td>\n",
       "      <td>0.097895</td>\n",
       "      <td>high</td>\n",
       "      <td>69</td>\n",
       "    </tr>\n",
       "    <tr>\n",
       "      <th>615</th>\n",
       "      <td>(1, 0)</td>\n",
       "      <td>0.000000</td>\n",
       "      <td>high</td>\n",
       "      <td>69</td>\n",
       "    </tr>\n",
       "  </tbody>\n",
       "</table>\n",
       "</div>"
      ],
      "text/plain": [
       "     indexs  WGCI_values patient_labels  patient_ID\n",
       "597  (1, 0)     0.000000           high          67\n",
       "604  (0, 1)     0.323338           high          68\n",
       "606  (1, 0)     0.000000           high          68\n",
       "613  (0, 1)     0.097895           high          69\n",
       "615  (1, 0)     0.000000           high          69"
      ]
     },
     "execution_count": 29,
     "metadata": {},
     "output_type": "execute_result"
    }
   ],
   "source": [
    "# 只显示 (0, 1), (1, 0)\n",
    "idx = np.logical_or(plot_data.indexs=='(0, 1)', plot_data.indexs=='(1, 0)')\n",
    "plot_data1 = plot_data[idx]\n",
    "plot_data1.tail()"
   ]
  },
  {
   "cell_type": "code",
   "execution_count": 30,
   "metadata": {},
   "outputs": [],
   "source": [
    "# save1 = plot_data1.sort_values('patient_labels')\n",
    "plot_data1.to_csv(data_root/'sta_mean_persons2.csv', encoding='utf-8')"
   ]
  },
  {
   "cell_type": "code",
   "execution_count": null,
   "metadata": {},
   "outputs": [],
   "source": []
  },
  {
   "cell_type": "markdown",
   "metadata": {},
   "source": [
    "### 1.3.1 可视化分析\n",
    "1. `sns.boxenplot`\n",
    "2. `sns.violinplot`\n",
    "3. `sns.boxplot`\n",
    "4. `sns.swarmplot`\n",
    "5. `sns.stripplot`"
   ]
  },
  {
   "cell_type": "code",
   "execution_count": 31,
   "metadata": {},
   "outputs": [
    {
     "name": "stdout",
     "output_type": "stream",
     "text": [
      "plot_type:  boxenplot\n"
     ]
    },
    {
     "data": {
      "text/plain": [
       "<Figure size 1296x576 with 0 Axes>"
      ]
     },
     "execution_count": 31,
     "metadata": {},
     "output_type": "execute_result"
    },
    {
     "data": {
      "image/png": "[encoded data removed]",
      "text/plain": [
       "<Figure size 1296x576 with 1 Axes>"
      ]
     },
     "metadata": {},
     "output_type": "display_data"
    },
    {
     "name": "stdout",
     "output_type": "stream",
     "text": [
      "plot_type:  violinplot\n"
     ]
    },
    {
     "data": {
      "text/plain": [
       "<Figure size 1296x576 with 0 Axes>"
      ]
     },
     "execution_count": 31,
     "metadata": {},
     "output_type": "execute_result"
    },
    {
     "data": {
      "image/png": "[encoded data removed]",
      "text/plain": [
       "<Figure size 1296x576 with 1 Axes>"
      ]
     },
     "metadata": {},
     "output_type": "display_data"
    },
    {
     "name": "stdout",
     "output_type": "stream",
     "text": [
      "plot_type:  boxplot\n"
     ]
    },
    {
     "data": {
      "text/plain": [
       "<Figure size 1296x576 with 0 Axes>"
      ]
     },
     "execution_count": 31,
     "metadata": {},
     "output_type": "execute_result"
    },
    {
     "data": {
      "image/png": "[encoded data removed]",
      "text/plain": [
       "<Figure size 1296x576 with 1 Axes>"
      ]
     },
     "metadata": {},
     "output_type": "display_data"
    },
    {
     "name": "stdout",
     "output_type": "stream",
     "text": [
      "plot_type:  swarmplot\n"
     ]
    },
    {
     "data": {
      "text/plain": [
       "<Figure size 1296x576 with 0 Axes>"
      ]
     },
     "execution_count": 31,
     "metadata": {},
     "output_type": "execute_result"
    },
    {
     "data": {
      "image/png": "[encoded data removed]",
      "text/plain": [
       "<Figure size 1296x576 with 1 Axes>"
      ]
     },
     "metadata": {},
     "output_type": "display_data"
    },
    {
     "name": "stdout",
     "output_type": "stream",
     "text": [
      "plot_type:  stripplot\n"
     ]
    },
    {
     "data": {
      "text/plain": [
       "<Figure size 1296x576 with 0 Axes>"
      ]
     },
     "execution_count": 31,
     "metadata": {},
     "output_type": "execute_result"
    },
    {
     "data": {
      "image/png": "[encoded data removed]",
      "text/plain": [
       "<Figure size 1296x576 with 1 Axes>"
      ]
     },
     "metadata": {},
     "output_type": "display_data"
    }
   ],
   "source": [
    "plot_type = ['boxenplot', 'violinplot', 'boxplot', 'swarmplot', 'stripplot']\n",
    "for item in plot_type:\n",
    "    print('plot_type: ', item)\n",
    "    plt.figure(figsize=(18, 8))\n",
    "    ax = getattr(sns, item)(x='indexs', y='WGCI_values', hue='patient_labels', data=plot_data)\n",
    "    plt.show()"
   ]
  },
  {
   "cell_type": "code",
   "execution_count": null,
   "metadata": {},
   "outputs": [],
   "source": []
  },
  {
   "cell_type": "markdown",
   "metadata": {},
   "source": [
    "## 1.4 每种类型的患者分析"
   ]
  },
  {
   "cell_type": "markdown",
   "metadata": {},
   "source": [
    "### 1.4.1 中值分析"
   ]
  },
  {
   "cell_type": "code",
   "execution_count": 50,
   "metadata": {},
   "outputs": [],
   "source": [
    "# 读取结果\n",
    "with open(data_root / r'WGCI_median_type_persons.pkl' , 'rb') as instream:\n",
    "    median_type_data = pickle.load(instream)"
   ]
  },
  {
   "cell_type": "code",
   "execution_count": 51,
   "metadata": {},
   "outputs": [
    {
     "data": {
      "text/plain": [
       "{'low': array([[0., 0., 0.],\n",
       "        [0., 0., 0.],\n",
       "        [0., 0., 0.]]), 'mid': array([[0., 0., 0.],\n",
       "        [0., 0., 0.],\n",
       "        [0., 0., 0.]]), 'high': array([[0., 0., 0.],\n",
       "        [0., 0., 0.],\n",
       "        [0., 0., 0.]])}"
      ]
     },
     "execution_count": 51,
     "metadata": {},
     "output_type": "execute_result"
    }
   ],
   "source": [
    "median_type_data"
   ]
  },
  {
   "cell_type": "code",
   "execution_count": 52,
   "metadata": {},
   "outputs": [],
   "source": [
    "# 构造绘图的数据\n",
    "x_axis = [str((row, col)) for row in range(n_dim) for col in range(n_dim)] * 3  # 3 种类型的患者\n",
    "plot_data = pd.DataFrame(columns=['indexs', 'WGCI_values', 'patient_type'])\n",
    "plot_data['indexs'] = pd.Series(x_axis)\n",
    "v1, v2 = [], []\n",
    "for id in ['low', 'mid', 'high']:\n",
    "    v1.append(median_type_data[id].reshape(-1,))\n",
    "    v2.append([id] * n_dim * n_dim)\n",
    "plot_data['WGCI_values'] = pd.Series(np.array(v1).reshape(-1,))\n",
    "plot_data['patient_type'] = pd.Series(np.array(v2).reshape(-1,))"
   ]
  },
  {
   "cell_type": "code",
   "execution_count": 53,
   "metadata": {},
   "outputs": [],
   "source": [
    "# 保存绘图数据\n",
    "plot_data.to_csv(data_root/'plot_data_sta_median_type_persons.csv', encoding='utf-8')"
   ]
  },
  {
   "cell_type": "markdown",
   "metadata": {},
   "source": [
    "### 可视化分析"
   ]
  },
  {
   "cell_type": "code",
   "execution_count": 54,
   "metadata": {},
   "outputs": [
    {
     "data": {
      "image/png": "[encoded data removed]",
      "text/plain": [
       "<Figure size 432x288 with 1 Axes>"
      ]
     },
     "metadata": {},
     "output_type": "display_data"
    }
   ],
   "source": [
    "ax = sns.swarmplot(x='indexs', y='WGCI_values', hue='patient_type', data=plot_data)"
   ]
  },
  {
   "cell_type": "markdown",
   "metadata": {},
   "source": [
    "### 读取分数信息"
   ]
  },
  {
   "cell_type": "code",
   "execution_count": null,
   "metadata": {},
   "outputs": [],
   "source": [
    "with open(data_root / r'scores_persons.pkl' , 'rb') as instream:\n",
    "    scores = pickle.load(instream)"
   ]
  },
  {
   "cell_type": "markdown",
   "metadata": {},
   "source": [
    "### 1.4.2 均值分析"
   ]
  },
  {
   "cell_type": "code",
   "execution_count": 37,
   "metadata": {},
   "outputs": [],
   "source": [
    "# 读取结果\n",
    "with open(data_root / r'WGCI_mean_type_persons.pkl' , 'rb') as instream:\n",
    "    mean_type_data = pickle.load(instream)"
   ]
  },
  {
   "cell_type": "code",
   "execution_count": 38,
   "metadata": {},
   "outputs": [
    {
     "data": {
      "text/plain": [
       "{'low': array([[0.        , 0.02422243, 0.01628659],\n",
       "        [0.16646108, 0.        , 0.00823296],\n",
       "        [0.01893911, 0.0074273 , 0.        ]]),\n",
       " 'mid': array([[0.        , 0.04282142, 0.00764377],\n",
       "        [0.10857005, 0.        , 0.00707315],\n",
       "        [0.00814306, 0.0065834 , 0.        ]]),\n",
       " 'high': array([[0.        , 0.04938256, 0.00344318],\n",
       "        [0.08449677, 0.        , 0.01103146],\n",
       "        [0.00327976, 0.01395508, 0.        ]])}"
      ]
     },
     "execution_count": 38,
     "metadata": {},
     "output_type": "execute_result"
    }
   ],
   "source": [
    "mean_type_data"
   ]
  },
  {
   "cell_type": "code",
   "execution_count": 39,
   "metadata": {},
   "outputs": [],
   "source": [
    "# 构造绘图的数据\n",
    "x_axis = [str((row, col)) for row in range(n_dim) for col in range(n_dim)] * 3  # 3 种类型的患者\n",
    "plot_data = pd.DataFrame(columns=['indexs', 'WGCI_values', 'patient_type'])\n",
    "plot_data['indexs'] = pd.Series(x_axis)\n",
    "v1, v2 = [], []\n",
    "for id in ['low', 'mid', 'high']:\n",
    "    v1.append(mean_type_data[id].reshape(-1,))\n",
    "    v2.append([id] * n_dim * n_dim)\n",
    "plot_data['WGCI_values'] = pd.Series(np.array(v1).reshape(-1,))\n",
    "plot_data['patient_type'] = pd.Series(np.array(v2).reshape(-1,))"
   ]
  },
  {
   "cell_type": "code",
   "execution_count": 40,
   "metadata": {},
   "outputs": [
    {
     "data": {
      "text/html": [
       "<div>\n",
       "<style scoped>\n",
       "    .dataframe tbody tr th:only-of-type {\n",
       "        vertical-align: middle;\n",
       "    }\n",
       "\n",
       "    .dataframe tbody tr th {\n",
       "        vertical-align: top;\n",
       "    }\n",
       "\n",
       "    .dataframe thead th {\n",
       "        text-align: right;\n",
       "    }\n",
       "</style>\n",
       "<table border=\"1\" class=\"dataframe\">\n",
       "  <thead>\n",
       "    <tr style=\"text-align: right;\">\n",
       "      <th></th>\n",
       "      <th>indexs</th>\n",
       "      <th>WGCI_values</th>\n",
       "      <th>patient_type</th>\n",
       "    </tr>\n",
       "  </thead>\n",
       "  <tbody>\n",
       "    <tr>\n",
       "      <th>0</th>\n",
       "      <td>(0, 0)</td>\n",
       "      <td>0.000000</td>\n",
       "      <td>low</td>\n",
       "    </tr>\n",
       "    <tr>\n",
       "      <th>1</th>\n",
       "      <td>(0, 1)</td>\n",
       "      <td>0.024222</td>\n",
       "      <td>low</td>\n",
       "    </tr>\n",
       "    <tr>\n",
       "      <th>2</th>\n",
       "      <td>(0, 2)</td>\n",
       "      <td>0.016287</td>\n",
       "      <td>low</td>\n",
       "    </tr>\n",
       "    <tr>\n",
       "      <th>3</th>\n",
       "      <td>(1, 0)</td>\n",
       "      <td>0.166461</td>\n",
       "      <td>low</td>\n",
       "    </tr>\n",
       "    <tr>\n",
       "      <th>4</th>\n",
       "      <td>(1, 1)</td>\n",
       "      <td>0.000000</td>\n",
       "      <td>low</td>\n",
       "    </tr>\n",
       "    <tr>\n",
       "      <th>5</th>\n",
       "      <td>(1, 2)</td>\n",
       "      <td>0.008233</td>\n",
       "      <td>low</td>\n",
       "    </tr>\n",
       "    <tr>\n",
       "      <th>6</th>\n",
       "      <td>(2, 0)</td>\n",
       "      <td>0.018939</td>\n",
       "      <td>low</td>\n",
       "    </tr>\n",
       "    <tr>\n",
       "      <th>7</th>\n",
       "      <td>(2, 1)</td>\n",
       "      <td>0.007427</td>\n",
       "      <td>low</td>\n",
       "    </tr>\n",
       "    <tr>\n",
       "      <th>8</th>\n",
       "      <td>(2, 2)</td>\n",
       "      <td>0.000000</td>\n",
       "      <td>low</td>\n",
       "    </tr>\n",
       "    <tr>\n",
       "      <th>9</th>\n",
       "      <td>(0, 0)</td>\n",
       "      <td>0.000000</td>\n",
       "      <td>mid</td>\n",
       "    </tr>\n",
       "    <tr>\n",
       "      <th>10</th>\n",
       "      <td>(0, 1)</td>\n",
       "      <td>0.042821</td>\n",
       "      <td>mid</td>\n",
       "    </tr>\n",
       "    <tr>\n",
       "      <th>11</th>\n",
       "      <td>(0, 2)</td>\n",
       "      <td>0.007644</td>\n",
       "      <td>mid</td>\n",
       "    </tr>\n",
       "    <tr>\n",
       "      <th>12</th>\n",
       "      <td>(1, 0)</td>\n",
       "      <td>0.108570</td>\n",
       "      <td>mid</td>\n",
       "    </tr>\n",
       "    <tr>\n",
       "      <th>13</th>\n",
       "      <td>(1, 1)</td>\n",
       "      <td>0.000000</td>\n",
       "      <td>mid</td>\n",
       "    </tr>\n",
       "    <tr>\n",
       "      <th>14</th>\n",
       "      <td>(1, 2)</td>\n",
       "      <td>0.007073</td>\n",
       "      <td>mid</td>\n",
       "    </tr>\n",
       "    <tr>\n",
       "      <th>15</th>\n",
       "      <td>(2, 0)</td>\n",
       "      <td>0.008143</td>\n",
       "      <td>mid</td>\n",
       "    </tr>\n",
       "    <tr>\n",
       "      <th>16</th>\n",
       "      <td>(2, 1)</td>\n",
       "      <td>0.006583</td>\n",
       "      <td>mid</td>\n",
       "    </tr>\n",
       "    <tr>\n",
       "      <th>17</th>\n",
       "      <td>(2, 2)</td>\n",
       "      <td>0.000000</td>\n",
       "      <td>mid</td>\n",
       "    </tr>\n",
       "    <tr>\n",
       "      <th>18</th>\n",
       "      <td>(0, 0)</td>\n",
       "      <td>0.000000</td>\n",
       "      <td>high</td>\n",
       "    </tr>\n",
       "    <tr>\n",
       "      <th>19</th>\n",
       "      <td>(0, 1)</td>\n",
       "      <td>0.049383</td>\n",
       "      <td>high</td>\n",
       "    </tr>\n",
       "    <tr>\n",
       "      <th>20</th>\n",
       "      <td>(0, 2)</td>\n",
       "      <td>0.003443</td>\n",
       "      <td>high</td>\n",
       "    </tr>\n",
       "    <tr>\n",
       "      <th>21</th>\n",
       "      <td>(1, 0)</td>\n",
       "      <td>0.084497</td>\n",
       "      <td>high</td>\n",
       "    </tr>\n",
       "    <tr>\n",
       "      <th>22</th>\n",
       "      <td>(1, 1)</td>\n",
       "      <td>0.000000</td>\n",
       "      <td>high</td>\n",
       "    </tr>\n",
       "    <tr>\n",
       "      <th>23</th>\n",
       "      <td>(1, 2)</td>\n",
       "      <td>0.011031</td>\n",
       "      <td>high</td>\n",
       "    </tr>\n",
       "    <tr>\n",
       "      <th>24</th>\n",
       "      <td>(2, 0)</td>\n",
       "      <td>0.003280</td>\n",
       "      <td>high</td>\n",
       "    </tr>\n",
       "    <tr>\n",
       "      <th>25</th>\n",
       "      <td>(2, 1)</td>\n",
       "      <td>0.013955</td>\n",
       "      <td>high</td>\n",
       "    </tr>\n",
       "    <tr>\n",
       "      <th>26</th>\n",
       "      <td>(2, 2)</td>\n",
       "      <td>0.000000</td>\n",
       "      <td>high</td>\n",
       "    </tr>\n",
       "  </tbody>\n",
       "</table>\n",
       "</div>"
      ],
      "text/plain": [
       "    indexs  WGCI_values patient_type\n",
       "0   (0, 0)     0.000000          low\n",
       "1   (0, 1)     0.024222          low\n",
       "2   (0, 2)     0.016287          low\n",
       "3   (1, 0)     0.166461          low\n",
       "4   (1, 1)     0.000000          low\n",
       "5   (1, 2)     0.008233          low\n",
       "6   (2, 0)     0.018939          low\n",
       "7   (2, 1)     0.007427          low\n",
       "8   (2, 2)     0.000000          low\n",
       "9   (0, 0)     0.000000          mid\n",
       "10  (0, 1)     0.042821          mid\n",
       "11  (0, 2)     0.007644          mid\n",
       "12  (1, 0)     0.108570          mid\n",
       "13  (1, 1)     0.000000          mid\n",
       "14  (1, 2)     0.007073          mid\n",
       "15  (2, 0)     0.008143          mid\n",
       "16  (2, 1)     0.006583          mid\n",
       "17  (2, 2)     0.000000          mid\n",
       "18  (0, 0)     0.000000         high\n",
       "19  (0, 1)     0.049383         high\n",
       "20  (0, 2)     0.003443         high\n",
       "21  (1, 0)     0.084497         high\n",
       "22  (1, 1)     0.000000         high\n",
       "23  (1, 2)     0.011031         high\n",
       "24  (2, 0)     0.003280         high\n",
       "25  (2, 1)     0.013955         high\n",
       "26  (2, 2)     0.000000         high"
      ]
     },
     "execution_count": 40,
     "metadata": {},
     "output_type": "execute_result"
    }
   ],
   "source": [
    "plot_data"
   ]
  },
  {
   "cell_type": "code",
   "execution_count": 41,
   "metadata": {},
   "outputs": [],
   "source": [
    "# 保存绘图数据\n",
    "plot_data.to_csv(data_root/'plot_data_sta_mean_type_persons.csv', encoding='utf-8')"
   ]
  },
  {
   "cell_type": "code",
   "execution_count": 42,
   "metadata": {},
   "outputs": [
    {
     "data": {
      "text/html": [
       "<div>\n",
       "<style scoped>\n",
       "    .dataframe tbody tr th:only-of-type {\n",
       "        vertical-align: middle;\n",
       "    }\n",
       "\n",
       "    .dataframe tbody tr th {\n",
       "        vertical-align: top;\n",
       "    }\n",
       "\n",
       "    .dataframe thead th {\n",
       "        text-align: right;\n",
       "    }\n",
       "</style>\n",
       "<table border=\"1\" class=\"dataframe\">\n",
       "  <thead>\n",
       "    <tr style=\"text-align: right;\">\n",
       "      <th></th>\n",
       "      <th>indexs</th>\n",
       "      <th>WGCI_values</th>\n",
       "      <th>patient_type</th>\n",
       "    </tr>\n",
       "  </thead>\n",
       "  <tbody>\n",
       "    <tr>\n",
       "      <th>3</th>\n",
       "      <td>(1, 0)</td>\n",
       "      <td>0.166461</td>\n",
       "      <td>low</td>\n",
       "    </tr>\n",
       "    <tr>\n",
       "      <th>10</th>\n",
       "      <td>(0, 1)</td>\n",
       "      <td>0.042821</td>\n",
       "      <td>mid</td>\n",
       "    </tr>\n",
       "    <tr>\n",
       "      <th>12</th>\n",
       "      <td>(1, 0)</td>\n",
       "      <td>0.108570</td>\n",
       "      <td>mid</td>\n",
       "    </tr>\n",
       "    <tr>\n",
       "      <th>19</th>\n",
       "      <td>(0, 1)</td>\n",
       "      <td>0.049383</td>\n",
       "      <td>high</td>\n",
       "    </tr>\n",
       "    <tr>\n",
       "      <th>21</th>\n",
       "      <td>(1, 0)</td>\n",
       "      <td>0.084497</td>\n",
       "      <td>high</td>\n",
       "    </tr>\n",
       "  </tbody>\n",
       "</table>\n",
       "</div>"
      ],
      "text/plain": [
       "    indexs  WGCI_values patient_type\n",
       "3   (1, 0)     0.166461          low\n",
       "10  (0, 1)     0.042821          mid\n",
       "12  (1, 0)     0.108570          mid\n",
       "19  (0, 1)     0.049383         high\n",
       "21  (1, 0)     0.084497         high"
      ]
     },
     "execution_count": 42,
     "metadata": {},
     "output_type": "execute_result"
    }
   ],
   "source": [
    "# 只显示 (0, 1), (1, 0)\n",
    "idx = np.logical_or(plot_data.indexs=='(0, 1)', plot_data.indexs=='(1, 0)')\n",
    "plot_data1 = plot_data[idx]\n",
    "plot_data1.tail()"
   ]
  },
  {
   "cell_type": "code",
   "execution_count": 43,
   "metadata": {},
   "outputs": [],
   "source": [
    "# save1 = plot_data1.sort_values('patient_labels')\n",
    "plot_data1.to_csv(data_root/'sta_mean_type_persons2.csv', encoding='utf-8')"
   ]
  },
  {
   "cell_type": "code",
   "execution_count": null,
   "metadata": {},
   "outputs": [],
   "source": []
  },
  {
   "cell_type": "code",
   "execution_count": null,
   "metadata": {},
   "outputs": [],
   "source": []
  },
  {
   "cell_type": "markdown",
   "metadata": {},
   "source": [
    "### 可视化分析"
   ]
  },
  {
   "cell_type": "code",
   "execution_count": 44,
   "metadata": {},
   "outputs": [
    {
     "data": {
      "image/png": "[encoded data removed]",
      "text/plain": [
       "<Figure size 432x288 with 1 Axes>"
      ]
     },
     "metadata": {},
     "output_type": "display_data"
    }
   ],
   "source": [
    "ax = sns.swarmplot(x='indexs', y='WGCI_values', hue='patient_type', data=plot_data)"
   ]
  },
  {
   "cell_type": "markdown",
   "metadata": {},
   "source": [
    "## 1.4 网络可视化\n",
    "1. [Weighted Graph](https://networkx.github.io/documentation/latest/auto_examples/drawing/plot_weighted_graph.html#sphx-glr-auto-examples-drawing-plot-weighted-graph-py)"
   ]
  },
  {
   "cell_type": "code",
   "execution_count": 45,
   "metadata": {},
   "outputs": [],
   "source": [
    "import networkx as nx"
   ]
  },
  {
   "cell_type": "markdown",
   "metadata": {},
   "source": [
    "### 1.4.1 中值网络"
   ]
  },
  {
   "cell_type": "code",
   "execution_count": 46,
   "metadata": {},
   "outputs": [],
   "source": [
    "# 读取结果\n",
    "with open(data_root / r'WGCI_median_type_persons.pkl' , 'rb') as instream:\n",
    "    median_type_data = pickle.load(instream)"
   ]
  },
  {
   "cell_type": "code",
   "execution_count": 47,
   "metadata": {},
   "outputs": [
    {
     "data": {
      "text/plain": [
       "{'low': array([[0., 0., 0.],\n",
       "        [0., 0., 0.],\n",
       "        [0., 0., 0.]]), 'mid': array([[0., 0., 0.],\n",
       "        [0., 0., 0.],\n",
       "        [0., 0., 0.]]), 'high': array([[0., 0., 0.],\n",
       "        [0., 0., 0.],\n",
       "        [0., 0., 0.]])}"
      ]
     },
     "execution_count": 47,
     "metadata": {},
     "output_type": "execute_result"
    }
   ],
   "source": [
    "median_type_data"
   ]
  },
  {
   "cell_type": "code",
   "execution_count": 48,
   "metadata": {},
   "outputs": [],
   "source": [
    "def make_graph(data):\n",
    "    G = nx.Graph()\n",
    "    for x in ['ch1', 'ch2', 'ch3']:\n",
    "        G.add_node(x, node_size=5000)\n",
    "    n_ch = data.shape[0]\n",
    "    for row in range(n_ch):\n",
    "        for col in range(n_ch):\n",
    "            if data[row, col] > 1e-5:\n",
    "                G.add_edge(f'ch{row + 1}', f'ch{col + 1}', weight=data[row, col])\n",
    "    elarge = [(u, v) for (u, v, d) in G.edges(data=True) if d['weight'] > 0.005]\n",
    "    esmall = [(u, v) for (u, v, d) in G.edges(data=True) if d['weight'] <= 0.005]\n",
    "\n",
    "    pos = nx.spring_layout(G)  # positions for all nodes\n",
    "\n",
    "    # nodes\n",
    "    nx.draw_networkx_nodes(G, pos, node_size=700)\n",
    "\n",
    "    # edges\n",
    "    nx.draw_networkx_edges(G, pos, edgelist=elarge,\n",
    "                           width=6)\n",
    "    nx.draw_networkx_edges(G, pos, edgelist=esmall,\n",
    "                           width=6, alpha=0.5, edge_color='b', style='dashed')\n",
    "\n",
    "    # labels\n",
    "    nx.draw_networkx_labels(G, pos, font_size=20, font_family='sans-serif')\n",
    "\n",
    "    plt.axis('off')\n",
    "    plt.show()"
   ]
  },
  {
   "cell_type": "code",
   "execution_count": 49,
   "metadata": {},
   "outputs": [
    {
     "name": "stderr",
     "output_type": "stream",
     "text": [
      "D:\\Softwares\\MiniConda\\envs\\torch36\\lib\\site-packages\\networkx\\drawing\\nx_pylab.py:724: MatplotlibDeprecationWarning: The is_string_like function was deprecated in version 2.1.\n",
      "  if not cb.is_string_like(label):\n",
      "D:\\Softwares\\MiniConda\\envs\\torch36\\lib\\site-packages\\networkx\\drawing\\nx_pylab.py:724: MatplotlibDeprecationWarning: The is_string_like function was deprecated in version 2.1.\n",
      "  if not cb.is_string_like(label):\n",
      "D:\\Softwares\\MiniConda\\envs\\torch36\\lib\\site-packages\\networkx\\drawing\\nx_pylab.py:724: MatplotlibDeprecationWarning: The is_string_like function was deprecated in version 2.1.\n",
      "  if not cb.is_string_like(label):\n"
     ]
    },
    {
     "data": {
      "image/png": "[encoded data removed]",
      "text/plain": [
       "<Figure size 432x288 with 1 Axes>"
      ]
     },
     "metadata": {},
     "output_type": "display_data"
    },
    {
     "name": "stderr",
     "output_type": "stream",
     "text": [
      "D:\\Softwares\\MiniConda\\envs\\torch36\\lib\\site-packages\\networkx\\drawing\\nx_pylab.py:724: MatplotlibDeprecationWarning: The is_string_like function was deprecated in version 2.1.\n",
      "  if not cb.is_string_like(label):\n",
      "D:\\Softwares\\MiniConda\\envs\\torch36\\lib\\site-packages\\networkx\\drawing\\nx_pylab.py:724: MatplotlibDeprecationWarning: The is_string_like function was deprecated in version 2.1.\n",
      "  if not cb.is_string_like(label):\n",
      "D:\\Softwares\\MiniConda\\envs\\torch36\\lib\\site-packages\\networkx\\drawing\\nx_pylab.py:724: MatplotlibDeprecationWarning: The is_string_like function was deprecated in version 2.1.\n",
      "  if not cb.is_string_like(label):\n"
     ]
    },
    {
     "data": {
      "image/png": "[encoded data removed]",
      "text/plain": [
       "<Figure size 432x288 with 1 Axes>"
      ]
     },
     "metadata": {},
     "output_type": "display_data"
    },
    {
     "name": "stderr",
     "output_type": "stream",
     "text": [
      "D:\\Softwares\\MiniConda\\envs\\torch36\\lib\\site-packages\\networkx\\drawing\\nx_pylab.py:724: MatplotlibDeprecationWarning: The is_string_like function was deprecated in version 2.1.\n",
      "  if not cb.is_string_like(label):\n",
      "D:\\Softwares\\MiniConda\\envs\\torch36\\lib\\site-packages\\networkx\\drawing\\nx_pylab.py:724: MatplotlibDeprecationWarning: The is_string_like function was deprecated in version 2.1.\n",
      "  if not cb.is_string_like(label):\n",
      "D:\\Softwares\\MiniConda\\envs\\torch36\\lib\\site-packages\\networkx\\drawing\\nx_pylab.py:724: MatplotlibDeprecationWarning: The is_string_like function was deprecated in version 2.1.\n",
      "  if not cb.is_string_like(label):\n"
     ]
    },
    {
     "data": {
      "image/png": "[encoded data removed]",
      "text/plain": [
       "<Figure size 432x288 with 1 Axes>"
      ]
     },
     "metadata": {},
     "output_type": "display_data"
    }
   ],
   "source": [
    "for item in median_type_data.keys():\n",
    "    make_graph(median_type_data[item])"
   ]
  },
  {
   "cell_type": "code",
   "execution_count": null,
   "metadata": {},
   "outputs": [],
   "source": []
  },
  {
   "cell_type": "code",
   "execution_count": null,
   "metadata": {},
   "outputs": [],
   "source": []
  },
  {
   "cell_type": "code",
   "execution_count": null,
   "metadata": {},
   "outputs": [],
   "source": []
  },
  {
   "cell_type": "markdown",
   "metadata": {},
   "source": [
    "### 1.4.2 均值网络"
   ]
  },
  {
   "cell_type": "code",
   "execution_count": 50,
   "metadata": {},
   "outputs": [],
   "source": [
    "# 读取结果\n",
    "with open(data_root / r'WGCI_mean_type_persons.pkl' , 'rb') as instream:\n",
    "    mean_type_data = pickle.load(instream)"
   ]
  },
  {
   "cell_type": "code",
   "execution_count": null,
   "metadata": {},
   "outputs": [],
   "source": []
  },
  {
   "cell_type": "code",
   "execution_count": null,
   "metadata": {},
   "outputs": [],
   "source": []
  }
 ],
 "metadata": {
  "kernelspec": {
   "display_name": "Python 3",
   "language": "python",
   "name": "python3"
  },
  "language_info": {
   "codemirror_mode": {
    "name": "ipython",
    "version": 3
   },
   "file_extension": ".py",
   "mimetype": "text/x-python",
   "name": "python",
   "nbconvert_exporter": "python",
   "pygments_lexer": "ipython3",
   "version": "3.6.6"
  }
 },
 "nbformat": 4,
 "nbformat_minor": 2
}
